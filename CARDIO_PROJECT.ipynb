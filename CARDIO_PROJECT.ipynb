{
  "nbformat": 4,
  "nbformat_minor": 0,
  "metadata": {
    "colab": {
      "provenance": []
    },
    "kernelspec": {
      "name": "python3",
      "display_name": "Python 3"
    },
    "language_info": {
      "name": "python"
    }
  },
  "cells": [
    {
      "cell_type": "code",
      "execution_count": null,
      "metadata": {
        "id": "d9vELrHVewnl"
      },
      "outputs": [],
      "source": [
        "import numpy as np\n",
        "import pandas as pd\n",
        "import matplotlib.pyplot as plt\n",
        "import seaborn as sns\n",
        "from sklearn.metrics import accuracy_score,confusion_matrix\n",
        "from sklearn.metrics import recall_score\n",
        "from sklearn.model_selection import KFold, cross_val_score\n",
        "from sklearn.model_selection import cross_val_predict\n",
        "from sklearn.metrics import precision_score, recall_score, f1_score"
      ]
    },
    {
      "cell_type": "code",
      "source": [
        "df = pd.read_csv(\"/content/heart.csv\")"
      ],
      "metadata": {
        "id": "-mjEq4s7fMCn"
      },
      "execution_count": null,
      "outputs": []
    },
    {
      "cell_type": "code",
      "source": [
        "df.head()"
      ],
      "metadata": {
        "colab": {
          "base_uri": "https://localhost:8080/",
          "height": 206
        },
        "id": "8XZOJ5Rlfdd4",
        "outputId": "11d6306e-6e6f-4b92-9806-d3a67fb6b10e"
      },
      "execution_count": null,
      "outputs": [
        {
          "output_type": "execute_result",
          "data": {
            "text/plain": [
              "   age  sex  cp  trestbps  chol  fbs  restecg  thalach  exang  oldpeak  slope  \\\n",
              "0   52    1   0       125   212    0        1      168      0      1.0      2   \n",
              "1   53    1   0       140   203    1        0      155      1      3.1      0   \n",
              "2   70    1   0       145   174    0        1      125      1      2.6      0   \n",
              "3   61    1   0       148   203    0        1      161      0      0.0      2   \n",
              "4   62    0   0       138   294    1        1      106      0      1.9      1   \n",
              "\n",
              "   ca  thal  target  \n",
              "0   2     3       0  \n",
              "1   0     3       0  \n",
              "2   0     3       0  \n",
              "3   1     3       0  \n",
              "4   3     2       0  "
            ],
            "text/html": [
              "\n",
              "  <div id=\"df-322b89a7-48bd-451e-8897-60b50409827d\" class=\"colab-df-container\">\n",
              "    <div>\n",
              "<style scoped>\n",
              "    .dataframe tbody tr th:only-of-type {\n",
              "        vertical-align: middle;\n",
              "    }\n",
              "\n",
              "    .dataframe tbody tr th {\n",
              "        vertical-align: top;\n",
              "    }\n",
              "\n",
              "    .dataframe thead th {\n",
              "        text-align: right;\n",
              "    }\n",
              "</style>\n",
              "<table border=\"1\" class=\"dataframe\">\n",
              "  <thead>\n",
              "    <tr style=\"text-align: right;\">\n",
              "      <th></th>\n",
              "      <th>age</th>\n",
              "      <th>sex</th>\n",
              "      <th>cp</th>\n",
              "      <th>trestbps</th>\n",
              "      <th>chol</th>\n",
              "      <th>fbs</th>\n",
              "      <th>restecg</th>\n",
              "      <th>thalach</th>\n",
              "      <th>exang</th>\n",
              "      <th>oldpeak</th>\n",
              "      <th>slope</th>\n",
              "      <th>ca</th>\n",
              "      <th>thal</th>\n",
              "      <th>target</th>\n",
              "    </tr>\n",
              "  </thead>\n",
              "  <tbody>\n",
              "    <tr>\n",
              "      <th>0</th>\n",
              "      <td>52</td>\n",
              "      <td>1</td>\n",
              "      <td>0</td>\n",
              "      <td>125</td>\n",
              "      <td>212</td>\n",
              "      <td>0</td>\n",
              "      <td>1</td>\n",
              "      <td>168</td>\n",
              "      <td>0</td>\n",
              "      <td>1.0</td>\n",
              "      <td>2</td>\n",
              "      <td>2</td>\n",
              "      <td>3</td>\n",
              "      <td>0</td>\n",
              "    </tr>\n",
              "    <tr>\n",
              "      <th>1</th>\n",
              "      <td>53</td>\n",
              "      <td>1</td>\n",
              "      <td>0</td>\n",
              "      <td>140</td>\n",
              "      <td>203</td>\n",
              "      <td>1</td>\n",
              "      <td>0</td>\n",
              "      <td>155</td>\n",
              "      <td>1</td>\n",
              "      <td>3.1</td>\n",
              "      <td>0</td>\n",
              "      <td>0</td>\n",
              "      <td>3</td>\n",
              "      <td>0</td>\n",
              "    </tr>\n",
              "    <tr>\n",
              "      <th>2</th>\n",
              "      <td>70</td>\n",
              "      <td>1</td>\n",
              "      <td>0</td>\n",
              "      <td>145</td>\n",
              "      <td>174</td>\n",
              "      <td>0</td>\n",
              "      <td>1</td>\n",
              "      <td>125</td>\n",
              "      <td>1</td>\n",
              "      <td>2.6</td>\n",
              "      <td>0</td>\n",
              "      <td>0</td>\n",
              "      <td>3</td>\n",
              "      <td>0</td>\n",
              "    </tr>\n",
              "    <tr>\n",
              "      <th>3</th>\n",
              "      <td>61</td>\n",
              "      <td>1</td>\n",
              "      <td>0</td>\n",
              "      <td>148</td>\n",
              "      <td>203</td>\n",
              "      <td>0</td>\n",
              "      <td>1</td>\n",
              "      <td>161</td>\n",
              "      <td>0</td>\n",
              "      <td>0.0</td>\n",
              "      <td>2</td>\n",
              "      <td>1</td>\n",
              "      <td>3</td>\n",
              "      <td>0</td>\n",
              "    </tr>\n",
              "    <tr>\n",
              "      <th>4</th>\n",
              "      <td>62</td>\n",
              "      <td>0</td>\n",
              "      <td>0</td>\n",
              "      <td>138</td>\n",
              "      <td>294</td>\n",
              "      <td>1</td>\n",
              "      <td>1</td>\n",
              "      <td>106</td>\n",
              "      <td>0</td>\n",
              "      <td>1.9</td>\n",
              "      <td>1</td>\n",
              "      <td>3</td>\n",
              "      <td>2</td>\n",
              "      <td>0</td>\n",
              "    </tr>\n",
              "  </tbody>\n",
              "</table>\n",
              "</div>\n",
              "    <div class=\"colab-df-buttons\">\n",
              "\n",
              "  <div class=\"colab-df-container\">\n",
              "    <button class=\"colab-df-convert\" onclick=\"convertToInteractive('df-322b89a7-48bd-451e-8897-60b50409827d')\"\n",
              "            title=\"Convert this dataframe to an interactive table.\"\n",
              "            style=\"display:none;\">\n",
              "\n",
              "  <svg xmlns=\"http://www.w3.org/2000/svg\" height=\"24px\" viewBox=\"0 -960 960 960\">\n",
              "    <path d=\"M120-120v-720h720v720H120Zm60-500h600v-160H180v160Zm220 220h160v-160H400v160Zm0 220h160v-160H400v160ZM180-400h160v-160H180v160Zm440 0h160v-160H620v160ZM180-180h160v-160H180v160Zm440 0h160v-160H620v160Z\"/>\n",
              "  </svg>\n",
              "    </button>\n",
              "\n",
              "  <style>\n",
              "    .colab-df-container {\n",
              "      display:flex;\n",
              "      gap: 12px;\n",
              "    }\n",
              "\n",
              "    .colab-df-convert {\n",
              "      background-color: #E8F0FE;\n",
              "      border: none;\n",
              "      border-radius: 50%;\n",
              "      cursor: pointer;\n",
              "      display: none;\n",
              "      fill: #1967D2;\n",
              "      height: 32px;\n",
              "      padding: 0 0 0 0;\n",
              "      width: 32px;\n",
              "    }\n",
              "\n",
              "    .colab-df-convert:hover {\n",
              "      background-color: #E2EBFA;\n",
              "      box-shadow: 0px 1px 2px rgba(60, 64, 67, 0.3), 0px 1px 3px 1px rgba(60, 64, 67, 0.15);\n",
              "      fill: #174EA6;\n",
              "    }\n",
              "\n",
              "    .colab-df-buttons div {\n",
              "      margin-bottom: 4px;\n",
              "    }\n",
              "\n",
              "    [theme=dark] .colab-df-convert {\n",
              "      background-color: #3B4455;\n",
              "      fill: #D2E3FC;\n",
              "    }\n",
              "\n",
              "    [theme=dark] .colab-df-convert:hover {\n",
              "      background-color: #434B5C;\n",
              "      box-shadow: 0px 1px 3px 1px rgba(0, 0, 0, 0.15);\n",
              "      filter: drop-shadow(0px 1px 2px rgba(0, 0, 0, 0.3));\n",
              "      fill: #FFFFFF;\n",
              "    }\n",
              "  </style>\n",
              "\n",
              "    <script>\n",
              "      const buttonEl =\n",
              "        document.querySelector('#df-322b89a7-48bd-451e-8897-60b50409827d button.colab-df-convert');\n",
              "      buttonEl.style.display =\n",
              "        google.colab.kernel.accessAllowed ? 'block' : 'none';\n",
              "\n",
              "      async function convertToInteractive(key) {\n",
              "        const element = document.querySelector('#df-322b89a7-48bd-451e-8897-60b50409827d');\n",
              "        const dataTable =\n",
              "          await google.colab.kernel.invokeFunction('convertToInteractive',\n",
              "                                                    [key], {});\n",
              "        if (!dataTable) return;\n",
              "\n",
              "        const docLinkHtml = 'Like what you see? Visit the ' +\n",
              "          '<a target=\"_blank\" href=https://colab.research.google.com/notebooks/data_table.ipynb>data table notebook</a>'\n",
              "          + ' to learn more about interactive tables.';\n",
              "        element.innerHTML = '';\n",
              "        dataTable['output_type'] = 'display_data';\n",
              "        await google.colab.output.renderOutput(dataTable, element);\n",
              "        const docLink = document.createElement('div');\n",
              "        docLink.innerHTML = docLinkHtml;\n",
              "        element.appendChild(docLink);\n",
              "      }\n",
              "    </script>\n",
              "  </div>\n",
              "\n",
              "\n",
              "<div id=\"df-39f5f9bd-5cba-464c-ac07-c6c4430cbba7\">\n",
              "  <button class=\"colab-df-quickchart\" onclick=\"quickchart('df-39f5f9bd-5cba-464c-ac07-c6c4430cbba7')\"\n",
              "            title=\"Suggest charts.\"\n",
              "            style=\"display:none;\">\n",
              "\n",
              "<svg xmlns=\"http://www.w3.org/2000/svg\" height=\"24px\"viewBox=\"0 0 24 24\"\n",
              "     width=\"24px\">\n",
              "    <g>\n",
              "        <path d=\"M19 3H5c-1.1 0-2 .9-2 2v14c0 1.1.9 2 2 2h14c1.1 0 2-.9 2-2V5c0-1.1-.9-2-2-2zM9 17H7v-7h2v7zm4 0h-2V7h2v10zm4 0h-2v-4h2v4z\"/>\n",
              "    </g>\n",
              "</svg>\n",
              "  </button>\n",
              "\n",
              "<style>\n",
              "  .colab-df-quickchart {\n",
              "      --bg-color: #E8F0FE;\n",
              "      --fill-color: #1967D2;\n",
              "      --hover-bg-color: #E2EBFA;\n",
              "      --hover-fill-color: #174EA6;\n",
              "      --disabled-fill-color: #AAA;\n",
              "      --disabled-bg-color: #DDD;\n",
              "  }\n",
              "\n",
              "  [theme=dark] .colab-df-quickchart {\n",
              "      --bg-color: #3B4455;\n",
              "      --fill-color: #D2E3FC;\n",
              "      --hover-bg-color: #434B5C;\n",
              "      --hover-fill-color: #FFFFFF;\n",
              "      --disabled-bg-color: #3B4455;\n",
              "      --disabled-fill-color: #666;\n",
              "  }\n",
              "\n",
              "  .colab-df-quickchart {\n",
              "    background-color: var(--bg-color);\n",
              "    border: none;\n",
              "    border-radius: 50%;\n",
              "    cursor: pointer;\n",
              "    display: none;\n",
              "    fill: var(--fill-color);\n",
              "    height: 32px;\n",
              "    padding: 0;\n",
              "    width: 32px;\n",
              "  }\n",
              "\n",
              "  .colab-df-quickchart:hover {\n",
              "    background-color: var(--hover-bg-color);\n",
              "    box-shadow: 0 1px 2px rgba(60, 64, 67, 0.3), 0 1px 3px 1px rgba(60, 64, 67, 0.15);\n",
              "    fill: var(--button-hover-fill-color);\n",
              "  }\n",
              "\n",
              "  .colab-df-quickchart-complete:disabled,\n",
              "  .colab-df-quickchart-complete:disabled:hover {\n",
              "    background-color: var(--disabled-bg-color);\n",
              "    fill: var(--disabled-fill-color);\n",
              "    box-shadow: none;\n",
              "  }\n",
              "\n",
              "  .colab-df-spinner {\n",
              "    border: 2px solid var(--fill-color);\n",
              "    border-color: transparent;\n",
              "    border-bottom-color: var(--fill-color);\n",
              "    animation:\n",
              "      spin 1s steps(1) infinite;\n",
              "  }\n",
              "\n",
              "  @keyframes spin {\n",
              "    0% {\n",
              "      border-color: transparent;\n",
              "      border-bottom-color: var(--fill-color);\n",
              "      border-left-color: var(--fill-color);\n",
              "    }\n",
              "    20% {\n",
              "      border-color: transparent;\n",
              "      border-left-color: var(--fill-color);\n",
              "      border-top-color: var(--fill-color);\n",
              "    }\n",
              "    30% {\n",
              "      border-color: transparent;\n",
              "      border-left-color: var(--fill-color);\n",
              "      border-top-color: var(--fill-color);\n",
              "      border-right-color: var(--fill-color);\n",
              "    }\n",
              "    40% {\n",
              "      border-color: transparent;\n",
              "      border-right-color: var(--fill-color);\n",
              "      border-top-color: var(--fill-color);\n",
              "    }\n",
              "    60% {\n",
              "      border-color: transparent;\n",
              "      border-right-color: var(--fill-color);\n",
              "    }\n",
              "    80% {\n",
              "      border-color: transparent;\n",
              "      border-right-color: var(--fill-color);\n",
              "      border-bottom-color: var(--fill-color);\n",
              "    }\n",
              "    90% {\n",
              "      border-color: transparent;\n",
              "      border-bottom-color: var(--fill-color);\n",
              "    }\n",
              "  }\n",
              "</style>\n",
              "\n",
              "  <script>\n",
              "    async function quickchart(key) {\n",
              "      const quickchartButtonEl =\n",
              "        document.querySelector('#' + key + ' button');\n",
              "      quickchartButtonEl.disabled = true;  // To prevent multiple clicks.\n",
              "      quickchartButtonEl.classList.add('colab-df-spinner');\n",
              "      try {\n",
              "        const charts = await google.colab.kernel.invokeFunction(\n",
              "            'suggestCharts', [key], {});\n",
              "      } catch (error) {\n",
              "        console.error('Error during call to suggestCharts:', error);\n",
              "      }\n",
              "      quickchartButtonEl.classList.remove('colab-df-spinner');\n",
              "      quickchartButtonEl.classList.add('colab-df-quickchart-complete');\n",
              "    }\n",
              "    (() => {\n",
              "      let quickchartButtonEl =\n",
              "        document.querySelector('#df-39f5f9bd-5cba-464c-ac07-c6c4430cbba7 button');\n",
              "      quickchartButtonEl.style.display =\n",
              "        google.colab.kernel.accessAllowed ? 'block' : 'none';\n",
              "    })();\n",
              "  </script>\n",
              "</div>\n",
              "    </div>\n",
              "  </div>\n"
            ]
          },
          "metadata": {},
          "execution_count": 4
        }
      ]
    },
    {
      "cell_type": "code",
      "source": [
        "df.isnull()"
      ],
      "metadata": {
        "colab": {
          "base_uri": "https://localhost:8080/",
          "height": 443
        },
        "id": "_CqHs22Hfnr_",
        "outputId": "72fde814-3f8d-4cdf-fdae-0934dbc672d5"
      },
      "execution_count": null,
      "outputs": [
        {
          "output_type": "execute_result",
          "data": {
            "text/plain": [
              "        age    sex     cp  trestbps   chol    fbs  restecg  thalach  exang  \\\n",
              "0     False  False  False     False  False  False    False    False  False   \n",
              "1     False  False  False     False  False  False    False    False  False   \n",
              "2     False  False  False     False  False  False    False    False  False   \n",
              "3     False  False  False     False  False  False    False    False  False   \n",
              "4     False  False  False     False  False  False    False    False  False   \n",
              "...     ...    ...    ...       ...    ...    ...      ...      ...    ...   \n",
              "1020  False  False  False     False  False  False    False    False  False   \n",
              "1021  False  False  False     False  False  False    False    False  False   \n",
              "1022  False  False  False     False  False  False    False    False  False   \n",
              "1023  False  False  False     False  False  False    False    False  False   \n",
              "1024  False  False  False     False  False  False    False    False  False   \n",
              "\n",
              "      oldpeak  slope     ca   thal  target  \n",
              "0       False  False  False  False   False  \n",
              "1       False  False  False  False   False  \n",
              "2       False  False  False  False   False  \n",
              "3       False  False  False  False   False  \n",
              "4       False  False  False  False   False  \n",
              "...       ...    ...    ...    ...     ...  \n",
              "1020    False  False  False  False   False  \n",
              "1021    False  False  False  False   False  \n",
              "1022    False  False  False  False   False  \n",
              "1023    False  False  False  False   False  \n",
              "1024    False  False  False  False   False  \n",
              "\n",
              "[1025 rows x 14 columns]"
            ],
            "text/html": [
              "\n",
              "  <div id=\"df-ce5f7dc8-fde3-4692-9ff6-f719762a23f3\" class=\"colab-df-container\">\n",
              "    <div>\n",
              "<style scoped>\n",
              "    .dataframe tbody tr th:only-of-type {\n",
              "        vertical-align: middle;\n",
              "    }\n",
              "\n",
              "    .dataframe tbody tr th {\n",
              "        vertical-align: top;\n",
              "    }\n",
              "\n",
              "    .dataframe thead th {\n",
              "        text-align: right;\n",
              "    }\n",
              "</style>\n",
              "<table border=\"1\" class=\"dataframe\">\n",
              "  <thead>\n",
              "    <tr style=\"text-align: right;\">\n",
              "      <th></th>\n",
              "      <th>age</th>\n",
              "      <th>sex</th>\n",
              "      <th>cp</th>\n",
              "      <th>trestbps</th>\n",
              "      <th>chol</th>\n",
              "      <th>fbs</th>\n",
              "      <th>restecg</th>\n",
              "      <th>thalach</th>\n",
              "      <th>exang</th>\n",
              "      <th>oldpeak</th>\n",
              "      <th>slope</th>\n",
              "      <th>ca</th>\n",
              "      <th>thal</th>\n",
              "      <th>target</th>\n",
              "    </tr>\n",
              "  </thead>\n",
              "  <tbody>\n",
              "    <tr>\n",
              "      <th>0</th>\n",
              "      <td>False</td>\n",
              "      <td>False</td>\n",
              "      <td>False</td>\n",
              "      <td>False</td>\n",
              "      <td>False</td>\n",
              "      <td>False</td>\n",
              "      <td>False</td>\n",
              "      <td>False</td>\n",
              "      <td>False</td>\n",
              "      <td>False</td>\n",
              "      <td>False</td>\n",
              "      <td>False</td>\n",
              "      <td>False</td>\n",
              "      <td>False</td>\n",
              "    </tr>\n",
              "    <tr>\n",
              "      <th>1</th>\n",
              "      <td>False</td>\n",
              "      <td>False</td>\n",
              "      <td>False</td>\n",
              "      <td>False</td>\n",
              "      <td>False</td>\n",
              "      <td>False</td>\n",
              "      <td>False</td>\n",
              "      <td>False</td>\n",
              "      <td>False</td>\n",
              "      <td>False</td>\n",
              "      <td>False</td>\n",
              "      <td>False</td>\n",
              "      <td>False</td>\n",
              "      <td>False</td>\n",
              "    </tr>\n",
              "    <tr>\n",
              "      <th>2</th>\n",
              "      <td>False</td>\n",
              "      <td>False</td>\n",
              "      <td>False</td>\n",
              "      <td>False</td>\n",
              "      <td>False</td>\n",
              "      <td>False</td>\n",
              "      <td>False</td>\n",
              "      <td>False</td>\n",
              "      <td>False</td>\n",
              "      <td>False</td>\n",
              "      <td>False</td>\n",
              "      <td>False</td>\n",
              "      <td>False</td>\n",
              "      <td>False</td>\n",
              "    </tr>\n",
              "    <tr>\n",
              "      <th>3</th>\n",
              "      <td>False</td>\n",
              "      <td>False</td>\n",
              "      <td>False</td>\n",
              "      <td>False</td>\n",
              "      <td>False</td>\n",
              "      <td>False</td>\n",
              "      <td>False</td>\n",
              "      <td>False</td>\n",
              "      <td>False</td>\n",
              "      <td>False</td>\n",
              "      <td>False</td>\n",
              "      <td>False</td>\n",
              "      <td>False</td>\n",
              "      <td>False</td>\n",
              "    </tr>\n",
              "    <tr>\n",
              "      <th>4</th>\n",
              "      <td>False</td>\n",
              "      <td>False</td>\n",
              "      <td>False</td>\n",
              "      <td>False</td>\n",
              "      <td>False</td>\n",
              "      <td>False</td>\n",
              "      <td>False</td>\n",
              "      <td>False</td>\n",
              "      <td>False</td>\n",
              "      <td>False</td>\n",
              "      <td>False</td>\n",
              "      <td>False</td>\n",
              "      <td>False</td>\n",
              "      <td>False</td>\n",
              "    </tr>\n",
              "    <tr>\n",
              "      <th>...</th>\n",
              "      <td>...</td>\n",
              "      <td>...</td>\n",
              "      <td>...</td>\n",
              "      <td>...</td>\n",
              "      <td>...</td>\n",
              "      <td>...</td>\n",
              "      <td>...</td>\n",
              "      <td>...</td>\n",
              "      <td>...</td>\n",
              "      <td>...</td>\n",
              "      <td>...</td>\n",
              "      <td>...</td>\n",
              "      <td>...</td>\n",
              "      <td>...</td>\n",
              "    </tr>\n",
              "    <tr>\n",
              "      <th>1020</th>\n",
              "      <td>False</td>\n",
              "      <td>False</td>\n",
              "      <td>False</td>\n",
              "      <td>False</td>\n",
              "      <td>False</td>\n",
              "      <td>False</td>\n",
              "      <td>False</td>\n",
              "      <td>False</td>\n",
              "      <td>False</td>\n",
              "      <td>False</td>\n",
              "      <td>False</td>\n",
              "      <td>False</td>\n",
              "      <td>False</td>\n",
              "      <td>False</td>\n",
              "    </tr>\n",
              "    <tr>\n",
              "      <th>1021</th>\n",
              "      <td>False</td>\n",
              "      <td>False</td>\n",
              "      <td>False</td>\n",
              "      <td>False</td>\n",
              "      <td>False</td>\n",
              "      <td>False</td>\n",
              "      <td>False</td>\n",
              "      <td>False</td>\n",
              "      <td>False</td>\n",
              "      <td>False</td>\n",
              "      <td>False</td>\n",
              "      <td>False</td>\n",
              "      <td>False</td>\n",
              "      <td>False</td>\n",
              "    </tr>\n",
              "    <tr>\n",
              "      <th>1022</th>\n",
              "      <td>False</td>\n",
              "      <td>False</td>\n",
              "      <td>False</td>\n",
              "      <td>False</td>\n",
              "      <td>False</td>\n",
              "      <td>False</td>\n",
              "      <td>False</td>\n",
              "      <td>False</td>\n",
              "      <td>False</td>\n",
              "      <td>False</td>\n",
              "      <td>False</td>\n",
              "      <td>False</td>\n",
              "      <td>False</td>\n",
              "      <td>False</td>\n",
              "    </tr>\n",
              "    <tr>\n",
              "      <th>1023</th>\n",
              "      <td>False</td>\n",
              "      <td>False</td>\n",
              "      <td>False</td>\n",
              "      <td>False</td>\n",
              "      <td>False</td>\n",
              "      <td>False</td>\n",
              "      <td>False</td>\n",
              "      <td>False</td>\n",
              "      <td>False</td>\n",
              "      <td>False</td>\n",
              "      <td>False</td>\n",
              "      <td>False</td>\n",
              "      <td>False</td>\n",
              "      <td>False</td>\n",
              "    </tr>\n",
              "    <tr>\n",
              "      <th>1024</th>\n",
              "      <td>False</td>\n",
              "      <td>False</td>\n",
              "      <td>False</td>\n",
              "      <td>False</td>\n",
              "      <td>False</td>\n",
              "      <td>False</td>\n",
              "      <td>False</td>\n",
              "      <td>False</td>\n",
              "      <td>False</td>\n",
              "      <td>False</td>\n",
              "      <td>False</td>\n",
              "      <td>False</td>\n",
              "      <td>False</td>\n",
              "      <td>False</td>\n",
              "    </tr>\n",
              "  </tbody>\n",
              "</table>\n",
              "<p>1025 rows × 14 columns</p>\n",
              "</div>\n",
              "    <div class=\"colab-df-buttons\">\n",
              "\n",
              "  <div class=\"colab-df-container\">\n",
              "    <button class=\"colab-df-convert\" onclick=\"convertToInteractive('df-ce5f7dc8-fde3-4692-9ff6-f719762a23f3')\"\n",
              "            title=\"Convert this dataframe to an interactive table.\"\n",
              "            style=\"display:none;\">\n",
              "\n",
              "  <svg xmlns=\"http://www.w3.org/2000/svg\" height=\"24px\" viewBox=\"0 -960 960 960\">\n",
              "    <path d=\"M120-120v-720h720v720H120Zm60-500h600v-160H180v160Zm220 220h160v-160H400v160Zm0 220h160v-160H400v160ZM180-400h160v-160H180v160Zm440 0h160v-160H620v160ZM180-180h160v-160H180v160Zm440 0h160v-160H620v160Z\"/>\n",
              "  </svg>\n",
              "    </button>\n",
              "\n",
              "  <style>\n",
              "    .colab-df-container {\n",
              "      display:flex;\n",
              "      gap: 12px;\n",
              "    }\n",
              "\n",
              "    .colab-df-convert {\n",
              "      background-color: #E8F0FE;\n",
              "      border: none;\n",
              "      border-radius: 50%;\n",
              "      cursor: pointer;\n",
              "      display: none;\n",
              "      fill: #1967D2;\n",
              "      height: 32px;\n",
              "      padding: 0 0 0 0;\n",
              "      width: 32px;\n",
              "    }\n",
              "\n",
              "    .colab-df-convert:hover {\n",
              "      background-color: #E2EBFA;\n",
              "      box-shadow: 0px 1px 2px rgba(60, 64, 67, 0.3), 0px 1px 3px 1px rgba(60, 64, 67, 0.15);\n",
              "      fill: #174EA6;\n",
              "    }\n",
              "\n",
              "    .colab-df-buttons div {\n",
              "      margin-bottom: 4px;\n",
              "    }\n",
              "\n",
              "    [theme=dark] .colab-df-convert {\n",
              "      background-color: #3B4455;\n",
              "      fill: #D2E3FC;\n",
              "    }\n",
              "\n",
              "    [theme=dark] .colab-df-convert:hover {\n",
              "      background-color: #434B5C;\n",
              "      box-shadow: 0px 1px 3px 1px rgba(0, 0, 0, 0.15);\n",
              "      filter: drop-shadow(0px 1px 2px rgba(0, 0, 0, 0.3));\n",
              "      fill: #FFFFFF;\n",
              "    }\n",
              "  </style>\n",
              "\n",
              "    <script>\n",
              "      const buttonEl =\n",
              "        document.querySelector('#df-ce5f7dc8-fde3-4692-9ff6-f719762a23f3 button.colab-df-convert');\n",
              "      buttonEl.style.display =\n",
              "        google.colab.kernel.accessAllowed ? 'block' : 'none';\n",
              "\n",
              "      async function convertToInteractive(key) {\n",
              "        const element = document.querySelector('#df-ce5f7dc8-fde3-4692-9ff6-f719762a23f3');\n",
              "        const dataTable =\n",
              "          await google.colab.kernel.invokeFunction('convertToInteractive',\n",
              "                                                    [key], {});\n",
              "        if (!dataTable) return;\n",
              "\n",
              "        const docLinkHtml = 'Like what you see? Visit the ' +\n",
              "          '<a target=\"_blank\" href=https://colab.research.google.com/notebooks/data_table.ipynb>data table notebook</a>'\n",
              "          + ' to learn more about interactive tables.';\n",
              "        element.innerHTML = '';\n",
              "        dataTable['output_type'] = 'display_data';\n",
              "        await google.colab.output.renderOutput(dataTable, element);\n",
              "        const docLink = document.createElement('div');\n",
              "        docLink.innerHTML = docLinkHtml;\n",
              "        element.appendChild(docLink);\n",
              "      }\n",
              "    </script>\n",
              "  </div>\n",
              "\n",
              "\n",
              "<div id=\"df-c5e2e19c-23f5-485d-8c2e-659ac8573e5c\">\n",
              "  <button class=\"colab-df-quickchart\" onclick=\"quickchart('df-c5e2e19c-23f5-485d-8c2e-659ac8573e5c')\"\n",
              "            title=\"Suggest charts.\"\n",
              "            style=\"display:none;\">\n",
              "\n",
              "<svg xmlns=\"http://www.w3.org/2000/svg\" height=\"24px\"viewBox=\"0 0 24 24\"\n",
              "     width=\"24px\">\n",
              "    <g>\n",
              "        <path d=\"M19 3H5c-1.1 0-2 .9-2 2v14c0 1.1.9 2 2 2h14c1.1 0 2-.9 2-2V5c0-1.1-.9-2-2-2zM9 17H7v-7h2v7zm4 0h-2V7h2v10zm4 0h-2v-4h2v4z\"/>\n",
              "    </g>\n",
              "</svg>\n",
              "  </button>\n",
              "\n",
              "<style>\n",
              "  .colab-df-quickchart {\n",
              "      --bg-color: #E8F0FE;\n",
              "      --fill-color: #1967D2;\n",
              "      --hover-bg-color: #E2EBFA;\n",
              "      --hover-fill-color: #174EA6;\n",
              "      --disabled-fill-color: #AAA;\n",
              "      --disabled-bg-color: #DDD;\n",
              "  }\n",
              "\n",
              "  [theme=dark] .colab-df-quickchart {\n",
              "      --bg-color: #3B4455;\n",
              "      --fill-color: #D2E3FC;\n",
              "      --hover-bg-color: #434B5C;\n",
              "      --hover-fill-color: #FFFFFF;\n",
              "      --disabled-bg-color: #3B4455;\n",
              "      --disabled-fill-color: #666;\n",
              "  }\n",
              "\n",
              "  .colab-df-quickchart {\n",
              "    background-color: var(--bg-color);\n",
              "    border: none;\n",
              "    border-radius: 50%;\n",
              "    cursor: pointer;\n",
              "    display: none;\n",
              "    fill: var(--fill-color);\n",
              "    height: 32px;\n",
              "    padding: 0;\n",
              "    width: 32px;\n",
              "  }\n",
              "\n",
              "  .colab-df-quickchart:hover {\n",
              "    background-color: var(--hover-bg-color);\n",
              "    box-shadow: 0 1px 2px rgba(60, 64, 67, 0.3), 0 1px 3px 1px rgba(60, 64, 67, 0.15);\n",
              "    fill: var(--button-hover-fill-color);\n",
              "  }\n",
              "\n",
              "  .colab-df-quickchart-complete:disabled,\n",
              "  .colab-df-quickchart-complete:disabled:hover {\n",
              "    background-color: var(--disabled-bg-color);\n",
              "    fill: var(--disabled-fill-color);\n",
              "    box-shadow: none;\n",
              "  }\n",
              "\n",
              "  .colab-df-spinner {\n",
              "    border: 2px solid var(--fill-color);\n",
              "    border-color: transparent;\n",
              "    border-bottom-color: var(--fill-color);\n",
              "    animation:\n",
              "      spin 1s steps(1) infinite;\n",
              "  }\n",
              "\n",
              "  @keyframes spin {\n",
              "    0% {\n",
              "      border-color: transparent;\n",
              "      border-bottom-color: var(--fill-color);\n",
              "      border-left-color: var(--fill-color);\n",
              "    }\n",
              "    20% {\n",
              "      border-color: transparent;\n",
              "      border-left-color: var(--fill-color);\n",
              "      border-top-color: var(--fill-color);\n",
              "    }\n",
              "    30% {\n",
              "      border-color: transparent;\n",
              "      border-left-color: var(--fill-color);\n",
              "      border-top-color: var(--fill-color);\n",
              "      border-right-color: var(--fill-color);\n",
              "    }\n",
              "    40% {\n",
              "      border-color: transparent;\n",
              "      border-right-color: var(--fill-color);\n",
              "      border-top-color: var(--fill-color);\n",
              "    }\n",
              "    60% {\n",
              "      border-color: transparent;\n",
              "      border-right-color: var(--fill-color);\n",
              "    }\n",
              "    80% {\n",
              "      border-color: transparent;\n",
              "      border-right-color: var(--fill-color);\n",
              "      border-bottom-color: var(--fill-color);\n",
              "    }\n",
              "    90% {\n",
              "      border-color: transparent;\n",
              "      border-bottom-color: var(--fill-color);\n",
              "    }\n",
              "  }\n",
              "</style>\n",
              "\n",
              "  <script>\n",
              "    async function quickchart(key) {\n",
              "      const quickchartButtonEl =\n",
              "        document.querySelector('#' + key + ' button');\n",
              "      quickchartButtonEl.disabled = true;  // To prevent multiple clicks.\n",
              "      quickchartButtonEl.classList.add('colab-df-spinner');\n",
              "      try {\n",
              "        const charts = await google.colab.kernel.invokeFunction(\n",
              "            'suggestCharts', [key], {});\n",
              "      } catch (error) {\n",
              "        console.error('Error during call to suggestCharts:', error);\n",
              "      }\n",
              "      quickchartButtonEl.classList.remove('colab-df-spinner');\n",
              "      quickchartButtonEl.classList.add('colab-df-quickchart-complete');\n",
              "    }\n",
              "    (() => {\n",
              "      let quickchartButtonEl =\n",
              "        document.querySelector('#df-c5e2e19c-23f5-485d-8c2e-659ac8573e5c button');\n",
              "      quickchartButtonEl.style.display =\n",
              "        google.colab.kernel.accessAllowed ? 'block' : 'none';\n",
              "    })();\n",
              "  </script>\n",
              "</div>\n",
              "    </div>\n",
              "  </div>\n"
            ]
          },
          "metadata": {},
          "execution_count": 4
        }
      ]
    },
    {
      "cell_type": "code",
      "source": [
        "feature_cols=[\"age\",\"sex\",\"cp\",\"trestbps\",\"chol\",\"fbs\",\"exang\",\"oldpeak\",\"slope\",\"ca\"]\n",
        "X=df[feature_cols]\n",
        "y=df.target\n",
        "from sklearn.model_selection import train_test_split\n",
        "X_train, X_test, y_train, y_test = train_test_split(X, y, test_size=0.3, random_state=42)\n",
        "X.head()"
      ],
      "metadata": {
        "colab": {
          "base_uri": "https://localhost:8080/",
          "height": 206
        },
        "id": "E1btupr6fwwM",
        "outputId": "337a9240-3d20-4f7c-ceea-3571aa91b60c"
      },
      "execution_count": null,
      "outputs": [
        {
          "output_type": "execute_result",
          "data": {
            "text/plain": [
              "   age  sex  cp  trestbps  chol  fbs  exang  oldpeak  slope  ca\n",
              "0   52    1   0       125   212    0      0      1.0      2   2\n",
              "1   53    1   0       140   203    1      1      3.1      0   0\n",
              "2   70    1   0       145   174    0      1      2.6      0   0\n",
              "3   61    1   0       148   203    0      0      0.0      2   1\n",
              "4   62    0   0       138   294    1      0      1.9      1   3"
            ],
            "text/html": [
              "\n",
              "  <div id=\"df-e49a3e33-44fc-4a5c-8b36-173aeffd829a\" class=\"colab-df-container\">\n",
              "    <div>\n",
              "<style scoped>\n",
              "    .dataframe tbody tr th:only-of-type {\n",
              "        vertical-align: middle;\n",
              "    }\n",
              "\n",
              "    .dataframe tbody tr th {\n",
              "        vertical-align: top;\n",
              "    }\n",
              "\n",
              "    .dataframe thead th {\n",
              "        text-align: right;\n",
              "    }\n",
              "</style>\n",
              "<table border=\"1\" class=\"dataframe\">\n",
              "  <thead>\n",
              "    <tr style=\"text-align: right;\">\n",
              "      <th></th>\n",
              "      <th>age</th>\n",
              "      <th>sex</th>\n",
              "      <th>cp</th>\n",
              "      <th>trestbps</th>\n",
              "      <th>chol</th>\n",
              "      <th>fbs</th>\n",
              "      <th>exang</th>\n",
              "      <th>oldpeak</th>\n",
              "      <th>slope</th>\n",
              "      <th>ca</th>\n",
              "    </tr>\n",
              "  </thead>\n",
              "  <tbody>\n",
              "    <tr>\n",
              "      <th>0</th>\n",
              "      <td>52</td>\n",
              "      <td>1</td>\n",
              "      <td>0</td>\n",
              "      <td>125</td>\n",
              "      <td>212</td>\n",
              "      <td>0</td>\n",
              "      <td>0</td>\n",
              "      <td>1.0</td>\n",
              "      <td>2</td>\n",
              "      <td>2</td>\n",
              "    </tr>\n",
              "    <tr>\n",
              "      <th>1</th>\n",
              "      <td>53</td>\n",
              "      <td>1</td>\n",
              "      <td>0</td>\n",
              "      <td>140</td>\n",
              "      <td>203</td>\n",
              "      <td>1</td>\n",
              "      <td>1</td>\n",
              "      <td>3.1</td>\n",
              "      <td>0</td>\n",
              "      <td>0</td>\n",
              "    </tr>\n",
              "    <tr>\n",
              "      <th>2</th>\n",
              "      <td>70</td>\n",
              "      <td>1</td>\n",
              "      <td>0</td>\n",
              "      <td>145</td>\n",
              "      <td>174</td>\n",
              "      <td>0</td>\n",
              "      <td>1</td>\n",
              "      <td>2.6</td>\n",
              "      <td>0</td>\n",
              "      <td>0</td>\n",
              "    </tr>\n",
              "    <tr>\n",
              "      <th>3</th>\n",
              "      <td>61</td>\n",
              "      <td>1</td>\n",
              "      <td>0</td>\n",
              "      <td>148</td>\n",
              "      <td>203</td>\n",
              "      <td>0</td>\n",
              "      <td>0</td>\n",
              "      <td>0.0</td>\n",
              "      <td>2</td>\n",
              "      <td>1</td>\n",
              "    </tr>\n",
              "    <tr>\n",
              "      <th>4</th>\n",
              "      <td>62</td>\n",
              "      <td>0</td>\n",
              "      <td>0</td>\n",
              "      <td>138</td>\n",
              "      <td>294</td>\n",
              "      <td>1</td>\n",
              "      <td>0</td>\n",
              "      <td>1.9</td>\n",
              "      <td>1</td>\n",
              "      <td>3</td>\n",
              "    </tr>\n",
              "  </tbody>\n",
              "</table>\n",
              "</div>\n",
              "    <div class=\"colab-df-buttons\">\n",
              "\n",
              "  <div class=\"colab-df-container\">\n",
              "    <button class=\"colab-df-convert\" onclick=\"convertToInteractive('df-e49a3e33-44fc-4a5c-8b36-173aeffd829a')\"\n",
              "            title=\"Convert this dataframe to an interactive table.\"\n",
              "            style=\"display:none;\">\n",
              "\n",
              "  <svg xmlns=\"http://www.w3.org/2000/svg\" height=\"24px\" viewBox=\"0 -960 960 960\">\n",
              "    <path d=\"M120-120v-720h720v720H120Zm60-500h600v-160H180v160Zm220 220h160v-160H400v160Zm0 220h160v-160H400v160ZM180-400h160v-160H180v160Zm440 0h160v-160H620v160ZM180-180h160v-160H180v160Zm440 0h160v-160H620v160Z\"/>\n",
              "  </svg>\n",
              "    </button>\n",
              "\n",
              "  <style>\n",
              "    .colab-df-container {\n",
              "      display:flex;\n",
              "      gap: 12px;\n",
              "    }\n",
              "\n",
              "    .colab-df-convert {\n",
              "      background-color: #E8F0FE;\n",
              "      border: none;\n",
              "      border-radius: 50%;\n",
              "      cursor: pointer;\n",
              "      display: none;\n",
              "      fill: #1967D2;\n",
              "      height: 32px;\n",
              "      padding: 0 0 0 0;\n",
              "      width: 32px;\n",
              "    }\n",
              "\n",
              "    .colab-df-convert:hover {\n",
              "      background-color: #E2EBFA;\n",
              "      box-shadow: 0px 1px 2px rgba(60, 64, 67, 0.3), 0px 1px 3px 1px rgba(60, 64, 67, 0.15);\n",
              "      fill: #174EA6;\n",
              "    }\n",
              "\n",
              "    .colab-df-buttons div {\n",
              "      margin-bottom: 4px;\n",
              "    }\n",
              "\n",
              "    [theme=dark] .colab-df-convert {\n",
              "      background-color: #3B4455;\n",
              "      fill: #D2E3FC;\n",
              "    }\n",
              "\n",
              "    [theme=dark] .colab-df-convert:hover {\n",
              "      background-color: #434B5C;\n",
              "      box-shadow: 0px 1px 3px 1px rgba(0, 0, 0, 0.15);\n",
              "      filter: drop-shadow(0px 1px 2px rgba(0, 0, 0, 0.3));\n",
              "      fill: #FFFFFF;\n",
              "    }\n",
              "  </style>\n",
              "\n",
              "    <script>\n",
              "      const buttonEl =\n",
              "        document.querySelector('#df-e49a3e33-44fc-4a5c-8b36-173aeffd829a button.colab-df-convert');\n",
              "      buttonEl.style.display =\n",
              "        google.colab.kernel.accessAllowed ? 'block' : 'none';\n",
              "\n",
              "      async function convertToInteractive(key) {\n",
              "        const element = document.querySelector('#df-e49a3e33-44fc-4a5c-8b36-173aeffd829a');\n",
              "        const dataTable =\n",
              "          await google.colab.kernel.invokeFunction('convertToInteractive',\n",
              "                                                    [key], {});\n",
              "        if (!dataTable) return;\n",
              "\n",
              "        const docLinkHtml = 'Like what you see? Visit the ' +\n",
              "          '<a target=\"_blank\" href=https://colab.research.google.com/notebooks/data_table.ipynb>data table notebook</a>'\n",
              "          + ' to learn more about interactive tables.';\n",
              "        element.innerHTML = '';\n",
              "        dataTable['output_type'] = 'display_data';\n",
              "        await google.colab.output.renderOutput(dataTable, element);\n",
              "        const docLink = document.createElement('div');\n",
              "        docLink.innerHTML = docLinkHtml;\n",
              "        element.appendChild(docLink);\n",
              "      }\n",
              "    </script>\n",
              "  </div>\n",
              "\n",
              "\n",
              "<div id=\"df-38c6146a-a73d-47b1-9c86-78d58908d9ed\">\n",
              "  <button class=\"colab-df-quickchart\" onclick=\"quickchart('df-38c6146a-a73d-47b1-9c86-78d58908d9ed')\"\n",
              "            title=\"Suggest charts.\"\n",
              "            style=\"display:none;\">\n",
              "\n",
              "<svg xmlns=\"http://www.w3.org/2000/svg\" height=\"24px\"viewBox=\"0 0 24 24\"\n",
              "     width=\"24px\">\n",
              "    <g>\n",
              "        <path d=\"M19 3H5c-1.1 0-2 .9-2 2v14c0 1.1.9 2 2 2h14c1.1 0 2-.9 2-2V5c0-1.1-.9-2-2-2zM9 17H7v-7h2v7zm4 0h-2V7h2v10zm4 0h-2v-4h2v4z\"/>\n",
              "    </g>\n",
              "</svg>\n",
              "  </button>\n",
              "\n",
              "<style>\n",
              "  .colab-df-quickchart {\n",
              "      --bg-color: #E8F0FE;\n",
              "      --fill-color: #1967D2;\n",
              "      --hover-bg-color: #E2EBFA;\n",
              "      --hover-fill-color: #174EA6;\n",
              "      --disabled-fill-color: #AAA;\n",
              "      --disabled-bg-color: #DDD;\n",
              "  }\n",
              "\n",
              "  [theme=dark] .colab-df-quickchart {\n",
              "      --bg-color: #3B4455;\n",
              "      --fill-color: #D2E3FC;\n",
              "      --hover-bg-color: #434B5C;\n",
              "      --hover-fill-color: #FFFFFF;\n",
              "      --disabled-bg-color: #3B4455;\n",
              "      --disabled-fill-color: #666;\n",
              "  }\n",
              "\n",
              "  .colab-df-quickchart {\n",
              "    background-color: var(--bg-color);\n",
              "    border: none;\n",
              "    border-radius: 50%;\n",
              "    cursor: pointer;\n",
              "    display: none;\n",
              "    fill: var(--fill-color);\n",
              "    height: 32px;\n",
              "    padding: 0;\n",
              "    width: 32px;\n",
              "  }\n",
              "\n",
              "  .colab-df-quickchart:hover {\n",
              "    background-color: var(--hover-bg-color);\n",
              "    box-shadow: 0 1px 2px rgba(60, 64, 67, 0.3), 0 1px 3px 1px rgba(60, 64, 67, 0.15);\n",
              "    fill: var(--button-hover-fill-color);\n",
              "  }\n",
              "\n",
              "  .colab-df-quickchart-complete:disabled,\n",
              "  .colab-df-quickchart-complete:disabled:hover {\n",
              "    background-color: var(--disabled-bg-color);\n",
              "    fill: var(--disabled-fill-color);\n",
              "    box-shadow: none;\n",
              "  }\n",
              "\n",
              "  .colab-df-spinner {\n",
              "    border: 2px solid var(--fill-color);\n",
              "    border-color: transparent;\n",
              "    border-bottom-color: var(--fill-color);\n",
              "    animation:\n",
              "      spin 1s steps(1) infinite;\n",
              "  }\n",
              "\n",
              "  @keyframes spin {\n",
              "    0% {\n",
              "      border-color: transparent;\n",
              "      border-bottom-color: var(--fill-color);\n",
              "      border-left-color: var(--fill-color);\n",
              "    }\n",
              "    20% {\n",
              "      border-color: transparent;\n",
              "      border-left-color: var(--fill-color);\n",
              "      border-top-color: var(--fill-color);\n",
              "    }\n",
              "    30% {\n",
              "      border-color: transparent;\n",
              "      border-left-color: var(--fill-color);\n",
              "      border-top-color: var(--fill-color);\n",
              "      border-right-color: var(--fill-color);\n",
              "    }\n",
              "    40% {\n",
              "      border-color: transparent;\n",
              "      border-right-color: var(--fill-color);\n",
              "      border-top-color: var(--fill-color);\n",
              "    }\n",
              "    60% {\n",
              "      border-color: transparent;\n",
              "      border-right-color: var(--fill-color);\n",
              "    }\n",
              "    80% {\n",
              "      border-color: transparent;\n",
              "      border-right-color: var(--fill-color);\n",
              "      border-bottom-color: var(--fill-color);\n",
              "    }\n",
              "    90% {\n",
              "      border-color: transparent;\n",
              "      border-bottom-color: var(--fill-color);\n",
              "    }\n",
              "  }\n",
              "</style>\n",
              "\n",
              "  <script>\n",
              "    async function quickchart(key) {\n",
              "      const quickchartButtonEl =\n",
              "        document.querySelector('#' + key + ' button');\n",
              "      quickchartButtonEl.disabled = true;  // To prevent multiple clicks.\n",
              "      quickchartButtonEl.classList.add('colab-df-spinner');\n",
              "      try {\n",
              "        const charts = await google.colab.kernel.invokeFunction(\n",
              "            'suggestCharts', [key], {});\n",
              "      } catch (error) {\n",
              "        console.error('Error during call to suggestCharts:', error);\n",
              "      }\n",
              "      quickchartButtonEl.classList.remove('colab-df-spinner');\n",
              "      quickchartButtonEl.classList.add('colab-df-quickchart-complete');\n",
              "    }\n",
              "    (() => {\n",
              "      let quickchartButtonEl =\n",
              "        document.querySelector('#df-38c6146a-a73d-47b1-9c86-78d58908d9ed button');\n",
              "      quickchartButtonEl.style.display =\n",
              "        google.colab.kernel.accessAllowed ? 'block' : 'none';\n",
              "    })();\n",
              "  </script>\n",
              "</div>\n",
              "    </div>\n",
              "  </div>\n"
            ]
          },
          "metadata": {},
          "execution_count": 5
        }
      ]
    },
    {
      "cell_type": "code",
      "source": [
        "#Naive Bayes\n",
        "from sklearn.naive_bayes import GaussianNB\n",
        "from sklearn import metrics\n",
        "from sklearn.metrics import confusion_matrix\n",
        "classifier = GaussianNB()\n",
        "classifier.fit(X_train, y_train)\n",
        "y_pred = classifier.predict(X_test)\n",
        "#Accuracy\n",
        "print('Accuracy Score:')\n",
        "print(metrics.accuracy_score(y_test,y_pred))\n",
        "#ROC AUC\n",
        "print('ROC AUC Score:')\n",
        "print(metrics.roc_auc_score(y_test,y_pred))\n",
        "#Precision\n",
        "print('Precision:')\n",
        "print(precision_score(y_test, y_pred))\n",
        "#Recall\n",
        "print('Recall:')\n",
        "print(recall_score(y_test, y_pred))\n",
        "#f1 score\n",
        "print('f1score:')\n",
        "print(f1_score(y_test, y_pred))\n",
        "#Confusion matrix\n",
        "cm=confusion_matrix(y_test,y_pred)\n",
        "cm"
      ],
      "metadata": {
        "colab": {
          "base_uri": "https://localhost:8080/"
        },
        "id": "EfCWFrdqf3rF",
        "outputId": "29b19b02-202c-4b32-a4da-de051797b1e9"
      },
      "execution_count": null,
      "outputs": [
        {
          "output_type": "stream",
          "name": "stdout",
          "text": [
            "Accuracy Score:\n",
            "0.788961038961039\n",
            "ROC AUC Score:\n",
            "0.7907433202481955\n",
            "Precision:\n",
            "0.75\n",
            "Recall:\n",
            "0.8456375838926175\n",
            "f1score:\n",
            "0.7949526813880127\n"
          ]
        },
        {
          "output_type": "execute_result",
          "data": {
            "text/plain": [
              "array([[117,  42],\n",
              "       [ 23, 126]])"
            ]
          },
          "metadata": {},
          "execution_count": 21
        }
      ]
    },
    {
      "cell_type": "code",
      "source": [
        "#Support Vector Machine\n",
        "from sklearn.svm import SVC\n",
        "from sklearn import metrics\n",
        "svm=SVC()\n",
        "svm.fit(X_train,y_train)\n",
        "y_pred=svm.predict(X_test)\n",
        "#Accuracy\n",
        "print('Accuracy Score:')\n",
        "print(metrics.accuracy_score(y_test,y_pred))\n",
        "#ROC AUC\n",
        "print('ROC AUC Score:')\n",
        "print(metrics.roc_auc_score(y_test,y_pred))\n",
        "#Precision\n",
        "print('Precision:')\n",
        "print(precision_score(y_test, y_pred))\n",
        "#Recall\n",
        "print('Recall:')\n",
        "print(recall_score(y_test, y_pred))\n",
        "#f1 score\n",
        "print('f1score:')\n",
        "print(f1_score(y_test, y_pred))\n",
        "#Confusion matrix\n",
        "cm=confusion_matrix(y_test,y_pred)\n",
        "cm\n"
      ],
      "metadata": {
        "colab": {
          "base_uri": "https://localhost:8080/"
        },
        "id": "GcmvxC35m880",
        "outputId": "6d723a67-f881-4e4f-b760-7074abee62c7"
      },
      "execution_count": null,
      "outputs": [
        {
          "output_type": "stream",
          "name": "stdout",
          "text": [
            "Accuracy Score:\n",
            "0.5227272727272727\n",
            "ROC AUC Score:\n",
            "0.5273943691697269\n",
            "Precision:\n",
            "0.5050505050505051\n",
            "Recall:\n",
            "0.6711409395973155\n",
            "f1score:\n",
            "0.5763688760806917\n"
          ]
        },
        {
          "output_type": "execute_result",
          "data": {
            "text/plain": [
              "array([[ 61,  98],\n",
              "       [ 49, 100]])"
            ]
          },
          "metadata": {},
          "execution_count": 27
        }
      ]
    },
    {
      "cell_type": "code",
      "source": [
        "# K Nearest Neighbor\n",
        "from sklearn import metrics\n",
        "from sklearn.neighbors import KNeighborsClassifier\n",
        "knn=KNeighborsClassifier(n_neighbors=3)\n",
        "knn.fit(X_train,y_train)\n",
        "y_pred=knn.predict(X_test)\n",
        "#Accuracy\n",
        "print('Accuracy Score:')\n",
        "print(metrics.accuracy_score(y_test,y_pred))\n",
        "#ROC AUC\n",
        "print('ROC AUC Score:')\n",
        "print(metrics.roc_auc_score(y_test,y_pred))\n",
        "#Precision\n",
        "print('Precision:')\n",
        "print(precision_score(y_test, y_pred))\n",
        "#Recall\n",
        "print('Recall:')\n",
        "print(recall_score(y_test, y_pred))\n",
        "#f1 score\n",
        "print('f1score:')\n",
        "print(f1_score(y_test, y_pred))\n",
        "#Confusion matrix\n",
        "cm=confusion_matrix(y_test,y_pred)\n",
        "cm\n"
      ],
      "metadata": {
        "colab": {
          "base_uri": "https://localhost:8080/"
        },
        "id": "E8UWIATinD_V",
        "outputId": "8f3a9180-8148-45b8-e60f-57b0250cebb4"
      },
      "execution_count": null,
      "outputs": [
        {
          "output_type": "stream",
          "name": "stdout",
          "text": [
            "Accuracy Score:\n",
            "0.8441558441558441\n",
            "ROC AUC Score:\n",
            "0.8437803385251784\n",
            "Precision:\n",
            "0.8435374149659864\n",
            "Recall:\n",
            "0.8322147651006712\n",
            "f1score:\n",
            "0.8378378378378378\n"
          ]
        },
        {
          "output_type": "execute_result",
          "data": {
            "text/plain": [
              "array([[136,  23],\n",
              "       [ 25, 124]])"
            ]
          },
          "metadata": {},
          "execution_count": 26
        }
      ]
    },
    {
      "cell_type": "code",
      "source": [
        "#Gradient Boosting Classifier\n",
        "from sklearn.ensemble import GradientBoostingClassifier\n",
        "from sklearn import metrics\n",
        "gbc=GradientBoostingClassifier()\n",
        "gbc.fit(X_train,y_train)\n",
        "y_pred=gbc.predict(X_test)\n",
        "#Accuracy\n",
        "print('Accuracy Score:')\n",
        "print(metrics.accuracy_score(y_test,y_pred))\n",
        "#ROC AUC\n",
        "print('ROC AUC Score:')\n",
        "print(metrics.roc_auc_score(y_test,y_pred))\n",
        "#Precision\n",
        "print('Precision:')\n",
        "print(precision_score(y_test, y_pred))\n",
        "#Recall\n",
        "print('Recall:')\n",
        "print(recall_score(y_test, y_pred))\n",
        "#f1 score\n",
        "print('f1score:')\n",
        "print(f1_score(y_test, y_pred))\n",
        "#Confusion matrix\n",
        "cm=confusion_matrix(y_test,y_pred)\n",
        "cm"
      ],
      "metadata": {
        "colab": {
          "base_uri": "https://localhost:8080/"
        },
        "id": "m1gf44Xw29Nv",
        "outputId": "9d3a7b85-1007-462b-c728-469bbfc08bbf"
      },
      "execution_count": null,
      "outputs": [
        {
          "output_type": "stream",
          "name": "stdout",
          "text": [
            "Accuracy Score:\n",
            "0.9415584415584416\n",
            "ROC AUC Score:\n",
            "0.9406525684859229\n",
            "Precision:\n",
            "0.9645390070921985\n",
            "Recall:\n",
            "0.912751677852349\n",
            "f1score:\n",
            "0.9379310344827586\n"
          ]
        },
        {
          "output_type": "execute_result",
          "data": {
            "text/plain": [
              "array([[154,   5],\n",
              "       [ 13, 136]])"
            ]
          },
          "metadata": {},
          "execution_count": 23
        }
      ]
    },
    {
      "cell_type": "code",
      "source": [
        "#adaboost\n",
        "from sklearn.ensemble import AdaBoostClassifier\n",
        "abc = AdaBoostClassifier(n_estimators=100, random_state=0)\n",
        "abc.fit(X_train,y_train)\n",
        "y_pred=abc.predict(X_test)\n",
        "#Accuracy\n",
        "print('Accuracy Score:')\n",
        "print(metrics.accuracy_score(y_test,y_pred))\n",
        "#ROC AUC\n",
        "print('ROC AUC Score:')\n",
        "print(metrics.roc_auc_score(y_test,y_pred))\n",
        "#Precision\n",
        "print('Precision:')\n",
        "print(precision_score(y_test, y_pred))\n",
        "#Recall\n",
        "print('Recall:')\n",
        "print(recall_score(y_test, y_pred))\n",
        "#f1 score\n",
        "print('f1score:')\n",
        "print(f1_score(y_test, y_pred))\n",
        "#Confusion matrix\n",
        "cm=confusion_matrix(y_test,y_pred)\n",
        "cm"
      ],
      "metadata": {
        "colab": {
          "base_uri": "https://localhost:8080/"
        },
        "id": "HLxmqFHO8yex",
        "outputId": "c248c4fc-4ec1-4005-d55f-9d7864334692"
      },
      "execution_count": null,
      "outputs": [
        {
          "output_type": "stream",
          "name": "stdout",
          "text": [
            "Accuracy Score:\n",
            "0.8571428571428571\n",
            "ROC AUC Score:\n",
            "0.8567810560972521\n",
            "Precision:\n",
            "0.8571428571428571\n",
            "Recall:\n",
            "0.8456375838926175\n",
            "f1score:\n",
            "0.8513513513513513\n"
          ]
        },
        {
          "output_type": "execute_result",
          "data": {
            "text/plain": [
              "array([[138,  21],\n",
              "       [ 23, 126]])"
            ]
          },
          "metadata": {},
          "execution_count": 22
        }
      ]
    },
    {
      "cell_type": "code",
      "source": [
        "import numpy as np\n",
        "import matplotlib.pyplot as plt\n",
        "classifiers=[\"Naives Bayes\",\"Support Vector Machine\",\"K Nearest Neighbor\",\"Gradient Boosting \",\"adaboost\"]\n",
        "pre=[75,50,84,96,85]\n",
        "recall=[84,67,83,91,84]\n",
        "f1=[79,57,83,93,85]\n",
        "ind=np.arange(len(classifiers))\n",
        "width=0.2\n",
        "plt.figure(figsize=(10,6))\n",
        "plt.bar(ind,pre,width,label=\"precision\")\n",
        "plt.bar(ind+width,recall,width,label=\"recall\")\n",
        "plt.bar(ind+width*2,f1,width,label=\"f1_score\")\n",
        "plt.xlabel(\"Classifiers\")\n",
        "plt.ylabel(\"parameters\")\n",
        "plt.title(\"precision,recall,f1_score of different classifiers\")\n",
        "plt.xticks(ind,classifiers)\n",
        "plt.legend( )\n",
        "plt.show()"
      ],
      "metadata": {
        "colab": {
          "base_uri": "https://localhost:8080/",
          "height": 564
        },
        "id": "g_ptVObrNNVe",
        "outputId": "a3fed57b-9b25-4428-eead-4537d9742d9c"
      },
      "execution_count": null,
      "outputs": [
        {
          "output_type": "display_data",
          "data": {
            "text/plain": [
              "<Figure size 1000x600 with 1 Axes>"
            ],
            "image/png": "[encoded data removed]"
          },
          "metadata": {}
        }
      ]
    },
    {
      "cell_type": "code",
      "source": [
        "import numpy as np\n",
        "import matplotlib.pyplot as plt\n",
        "classifiers=[\"Naives Bayes\",\"Support Vector Machine\",\"K Nearest Neighbor\",\"Gradient Boosting \",\"adaboost\"]\n",
        "accuracies=[0.78,0.52,0.84,0.94,0.85]\n",
        "width=0.35\n",
        "plt.figure(figsize=(10,6))\n",
        "plt.bar(classifiers,accuracies,color=\"green\")\n",
        "plt.xlabel(\"Classifiers\")\n",
        "plt.ylabel(\"Accuracy\")\n",
        "plt.title(\"Accuracy of different classifiers\")\n",
        "plt.show()\n"
      ],
      "metadata": {
        "colab": {
          "base_uri": "https://localhost:8080/",
          "height": 564
        },
        "id": "xlQ-rC__uXAX",
        "outputId": "9a603c6a-833d-44e5-aa1f-1ef5ce114143"
      },
      "execution_count": null,
      "outputs": [
        {
          "output_type": "display_data",
          "data": {
            "text/plain": [
              "<Figure size 1000x600 with 1 Axes>"
            ],
            "image/png": "[encoded data removed]"
          },
          "metadata": {}
        }
      ]
    },
    {
      "cell_type": "code",
      "source": [
        "#Using cross fold where k=3 for naives bayes\n",
        "k_folds = KFold(n_splits = 3)\n",
        "scores = cross_val_score(classifier, X, y, cv = k_folds)\n",
        "print(\"Cross Validation Scores: \", scores)\n",
        "print(\"Number of CV Scores used in Average: \", len(scores))\n",
        "predicted = cross_val_predict(classifier, X, y, cv=3)\n",
        "# Calculating accuracy, F1 score, precision, and recall\n",
        "accuracy = accuracy_score(y, predicted)\n",
        "print(\"Average Accuracy: \", accuracy)\n",
        "f1 = f1_score(y, predicted, average='weighted')\n",
        "precision = precision_score(y, predicted, average='weighted')\n",
        "recall = recall_score(y, predicted, average='weighted')\n",
        "print(\"F1 Score:\", f1)\n",
        "print(\"Precision:\", precision)\n",
        "print(\"Recall:\", recall)"
      ],
      "metadata": {
        "colab": {
          "base_uri": "https://localhost:8080/"
        },
        "id": "fbASKJgQgQWw",
        "outputId": "8036ed32-0a7b-4ba6-f406-4a8235e7df54"
      },
      "execution_count": null,
      "outputs": [
        {
          "output_type": "stream",
          "name": "stdout",
          "text": [
            "Cross Validation Scores:  [0.84795322 0.80701754 0.76539589]\n",
            "Number of CV Scores used in Average:  3\n",
            "Average Accuracy:  0.8165853658536585\n",
            "F1 Score: 0.8163711536674919\n",
            "Precision: 0.8170558991714318\n",
            "Recall: 0.8165853658536585\n"
          ]
        }
      ]
    },
    {
      "cell_type": "code",
      "source": [
        "#Using cross fold where k=3 for svm\n",
        "k_folds = KFold(n_splits = 3)\n",
        "scores = cross_val_score(svm, X, y, cv = k_folds)\n",
        "print(\"Cross Validation Scores: \", scores)\n",
        "print(\"Number of CV Scores used in Average: \", len(scores))\n",
        "predicted = cross_val_predict(svm, X, y, cv=3)\n",
        "# Calculating accuracy, F1 score, precision, and recall\n",
        "accuracy = accuracy_score(y, predicted)\n",
        "print(\"Average Accuracy: \", accuracy)\n",
        "f1 = f1_score(y, predicted, average='weighted')\n",
        "precision = precision_score(y, predicted, average='weighted')\n",
        "recall = recall_score(y, predicted, average='weighted')\n",
        "print(\"F1 Score:\", f1)\n",
        "print(\"Precision:\", precision)\n",
        "print(\"Recall:\", recall)"
      ],
      "metadata": {
        "colab": {
          "base_uri": "https://localhost:8080/"
        },
        "id": "jP4ngtBCnSa0",
        "outputId": "a75a92fe-8e85-40b5-f8e8-871596ea7e8e"
      },
      "execution_count": null,
      "outputs": [
        {
          "output_type": "stream",
          "name": "stdout",
          "text": [
            "Cross Validation Scores:  [0.60233918 0.61111111 0.59237537]\n",
            "Number of CV Scores used in Average:  3\n",
            "Average Accuracy:  0.6019512195121951\n",
            "F1 Score: 0.6000704638213721\n",
            "Precision: 0.6020727199444206\n",
            "Recall: 0.6019512195121951\n"
          ]
        }
      ]
    },
    {
      "cell_type": "code",
      "source": [
        "#Using cross fold where k=3 for KNN\n",
        "k_folds = KFold(n_splits = 3)\n",
        "scores = cross_val_score(knn, X, y, cv = k_folds)\n",
        "print(\"Cross Validation Scores: \", scores)\n",
        "print(\"Number of CV Scores used in Average: \", len(scores))\n",
        "predicted = cross_val_predict(knn, X, y, cv=3)\n",
        "# Calculating accuracy, F1 score, precision, and recall\n",
        "accuracy = accuracy_score(y, predicted)\n",
        "print(\"Average Accuracy: \", accuracy)\n",
        "f1 = f1_score(y, predicted, average='weighted')\n",
        "precision = precision_score(y, predicted, average='weighted')\n",
        "recall = recall_score(y, predicted, average='weighted')\n",
        "print(\"F1 Score:\", f1)\n",
        "print(\"Precision:\", precision)\n",
        "print(\"Recall:\", recall)"
      ],
      "metadata": {
        "colab": {
          "base_uri": "https://localhost:8080/"
        },
        "id": "JNuEttGPnpGP",
        "outputId": "d8d4c9bf-c3db-4590-956d-69840a8cbc9f"
      },
      "execution_count": null,
      "outputs": [
        {
          "output_type": "stream",
          "name": "stdout",
          "text": [
            "Cross Validation Scores:  [0.82163743 0.78362573 0.79178886]\n",
            "Number of CV Scores used in Average:  3\n",
            "Average Accuracy:  0.7970731707317074\n",
            "F1 Score: 0.797055787201822\n",
            "Precision: 0.7984053831360924\n",
            "Recall: 0.7970731707317074\n"
          ]
        }
      ]
    },
    {
      "cell_type": "code",
      "source": [
        "#Using cross fold where k=3 for gradient boosting classifier\n",
        "k_folds = KFold(n_splits = 3)\n",
        "scores = cross_val_score(gbc, X, y, cv = k_folds)\n",
        "print(\"Cross Validation Scores: \", scores)\n",
        "print(\"Number of CV Scores used in Average: \", len(scores))\n",
        "predicted = cross_val_predict(gbc, X, y, cv=3)\n",
        "# Calculating accuracy, F1 score, precision, and recall\n",
        "accuracy = accuracy_score(y, predicted)\n",
        "print(\"Average Accuracy: \", accuracy)\n",
        "f1 = f1_score(y, predicted, average='weighted')\n",
        "precision = precision_score(y, predicted, average='weighted')\n",
        "recall = recall_score(y, predicted, average='weighted')\n",
        "print(\"F1 Score:\", f1)\n",
        "print(\"Precision:\", precision)\n",
        "print(\"Recall:\", recall)"
      ],
      "metadata": {
        "colab": {
          "base_uri": "https://localhost:8080/"
        },
        "id": "QPALTb6I4rnP",
        "outputId": "966352db-332b-4e30-e27b-47e976332a90"
      },
      "execution_count": null,
      "outputs": [
        {
          "output_type": "stream",
          "name": "stdout",
          "text": [
            "Cross Validation Scores:  [0.99415205 0.94736842 0.93548387]\n",
            "Number of CV Scores used in Average:  3\n",
            "Average Accuracy:  0.9492682926829268\n",
            "F1 Score: 0.9492456615243149\n",
            "Precision: 0.9494838453708843\n",
            "Recall: 0.9492682926829268\n"
          ]
        }
      ]
    },
    {
      "cell_type": "code",
      "source": [
        "#Using cross fold where k=3 for  adabost classifier\n",
        "k_folds = KFold(n_splits = 3)\n",
        "scores = cross_val_score(abc, X, y, cv = k_folds)\n",
        "print(\"Cross Validation Scores: \", scores)\n",
        "print(\"Number of CV Scores used in Average: \", len(scores))\n",
        "predicted = cross_val_predict(abc, X, y, cv=3)\n",
        "# Calculating accuracy, F1 score, precision, and recall\n",
        "accuracy = accuracy_score(y, predicted)\n",
        "print(\"Average Accuracy: \", accuracy)\n",
        "f1 = f1_score(y, predicted, average='weighted')\n",
        "precision = precision_score(y, predicted, average='weighted')\n",
        "recall = recall_score(y, predicted, average='weighted')\n",
        "print(\"F1 Score:\", f1)\n",
        "print(\"Precision:\", precision)\n",
        "print(\"Recall:\", recall)"
      ],
      "metadata": {
        "colab": {
          "base_uri": "https://localhost:8080/"
        },
        "id": "sOoj8rgs9DJq",
        "outputId": "96057476-c20b-4b0c-f453-4dc75c13023f"
      },
      "execution_count": null,
      "outputs": [
        {
          "output_type": "stream",
          "name": "stdout",
          "text": [
            "Cross Validation Scores:  [0.93859649 0.8625731  0.86217009]\n",
            "Number of CV Scores used in Average:  3\n",
            "Average Accuracy:  0.88\n",
            "F1 Score: 0.8798846154946814\n",
            "Precision: 0.8805108121132385\n",
            "Recall: 0.88\n"
          ]
        }
      ]
    },
    {
      "cell_type": "code",
      "source": [
        "import numpy as np\n",
        "import matplotlib.pyplot as plt\n",
        "classifiers=[\"Naives Bayes\",\"Support Vector Machine\",\"K Nearest Neighbor\",\"Gradient Boosting \",\"adaboost\"]\n",
        "pre=[81,60,79,94,88]\n",
        "recall=[81,60,79,94,88]\n",
        "f1=[81,60,79,94,87]\n",
        "ind=np.arange(len(classifiers))\n",
        "width=0.2\n",
        "plt.figure(figsize=(10,6))\n",
        "plt.bar(ind,pre,width,label=\"precision\")\n",
        "plt.bar(ind+width,recall,width,label=\"recall\")\n",
        "plt.bar(ind+width*2,f1,width,label=\"f1_score\")\n",
        "plt.xlabel(\"Classifiers\")\n",
        "plt.ylabel(\"parameters\")\n",
        "plt.title(\"precision,recall,f1_score of classifiers using k_fold,k=3\")\n",
        "plt.xticks(ind,classifiers)\n",
        "plt.legend( )\n",
        "plt.show()"
      ],
      "metadata": {
        "colab": {
          "base_uri": "https://localhost:8080/",
          "height": 564
        },
        "id": "k-xxuzLRZ8Pq",
        "outputId": "8c4970e2-f2cb-4ac0-e16d-8d6a50975c22"
      },
      "execution_count": null,
      "outputs": [
        {
          "output_type": "display_data",
          "data": {
            "text/plain": [
              "<Figure size 1000x600 with 1 Axes>"
            ],
            "image/png": "[encoded data removed]"
          },
          "metadata": {}
        }
      ]
    },
    {
      "cell_type": "code",
      "source": [
        "import numpy as np\n",
        "import matplotlib.pyplot as plt\n",
        "classifiers=[\"Naives Bayes\",\"Support Vector Machine\",\"K Nearest Neighbor\",\"Gradient Boosting \",\"adaboost\"]\n",
        "accuracies=[0.81,0.60,0.79,0.94,0.88]\n",
        "plt.figure(figsize=(10,6))\n",
        "plt.bar(classifiers,accuracies,color=\"pink\")\n",
        "plt.xlabel(\"Classifiers\")\n",
        "plt.ylabel(\"Accuracy\")\n",
        "plt.title(\"Accuracy of  classifiers using k fold,k=3\")\n",
        "plt.show()"
      ],
      "metadata": {
        "colab": {
          "base_uri": "https://localhost:8080/",
          "height": 564
        },
        "id": "fgpUtOk5Ko7s",
        "outputId": "4695ecb0-08ca-4c9e-eec2-82954da00d46"
      },
      "execution_count": null,
      "outputs": [
        {
          "output_type": "display_data",
          "data": {
            "text/plain": [
              "<Figure size 1000x600 with 1 Axes>"
            ],
            "image/png": "[encoded data removed]"
          },
          "metadata": {}
        }
      ]
    },
    {
      "cell_type": "code",
      "source": [
        "#Using cross fold where k=5 for naives bayes\n",
        "k_folds = KFold(n_splits = 5)\n",
        "scores5= cross_val_score(classifier, X, y, cv = k_folds)\n",
        "print(\"Cross Validation Scores: \", scores5)\n",
        "print(\"Number of CV Scores used in Average: \", len(scores5))\n",
        "predicted = cross_val_predict(classifier, X, y, cv=5)\n",
        "# Calculating accuracy, F1 score, precision, and recall\n",
        "accuracy5 = accuracy_score(y, predicted)\n",
        "print(\"Average Accuracy: \", accuracy5)\n",
        "f1 = f1_score(y, predicted, average='weighted')\n",
        "precision = precision_score(y, predicted, average='weighted')\n",
        "recall = recall_score(y, predicted, average='weighted')\n",
        "print(\"F1 Score:\", f1)\n",
        "print(\"Precision:\", precision)\n",
        "print(\"Recall:\", recall)"
      ],
      "metadata": {
        "colab": {
          "base_uri": "https://localhost:8080/"
        },
        "id": "RYYG_pHEjSkM",
        "outputId": "c635693a-2585-4976-ae47-f6ac7cfead99"
      },
      "execution_count": null,
      "outputs": [
        {
          "output_type": "stream",
          "name": "stdout",
          "text": [
            "Cross Validation Scores:  [0.88292683 0.78536585 0.82439024 0.7902439  0.76585366]\n",
            "Number of CV Scores used in Average:  5\n",
            "Average Accuracy:  0.8136585365853658\n",
            "F1 Score: 0.8133386144730944\n",
            "Precision: 0.8145157000803539\n",
            "Recall: 0.8136585365853658\n"
          ]
        }
      ]
    },
    {
      "cell_type": "code",
      "source": [
        "#Using cross fold where k=5 for svm\n",
        "k_folds = KFold(n_splits = 5)\n",
        "scores5= cross_val_score(svm, X, y, cv = k_folds)\n",
        "print(\"Cross Validation Scores: \", scores5)\n",
        "print(\"Number of CV Scores used in Average: \", len(scores5))\n",
        "predicted = cross_val_predict(svm, X, y, cv=5)\n",
        "# Calculating accuracy, F1 score, precision, and recall\n",
        "accuracy5 = accuracy_score(y, predicted)\n",
        "print(\"Average Accuracy: \", accuracy5)\n",
        "f1 = f1_score(y, predicted, average='weighted')\n",
        "precision = precision_score(y, predicted, average='weighted')\n",
        "recall = recall_score(y, predicted, average='weighted')\n",
        "print(\"F1 Score:\", f1)\n",
        "print(\"Precision:\", precision)\n",
        "print(\"Recall:\", recall)"
      ],
      "metadata": {
        "colab": {
          "base_uri": "https://localhost:8080/"
        },
        "id": "jDMUWqzfnW2c",
        "outputId": "f6e950d4-3005-4c64-fabd-149422c67c30"
      },
      "execution_count": null,
      "outputs": [
        {
          "output_type": "stream",
          "name": "stdout",
          "text": [
            "Cross Validation Scores:  [0.59512195 0.63414634 0.61463415 0.6195122  0.5804878 ]\n",
            "Number of CV Scores used in Average:  5\n",
            "Average Accuracy:  0.6029268292682927\n",
            "F1 Score: 0.601414627187981\n",
            "Precision: 0.6029048862010036\n",
            "Recall: 0.6029268292682927\n"
          ]
        }
      ]
    },
    {
      "cell_type": "code",
      "source": [
        "#Using cross fold where k=5 for KNN\n",
        "k_folds = KFold(n_splits = 5)\n",
        "scores5= cross_val_score(knn, X, y, cv = k_folds)\n",
        "print(\"Cross Validation Scores: \", scores5)\n",
        "print(\"Number of CV Scores used in Average: \", len(scores5))\n",
        "predicted = cross_val_predict(knn, X, y, cv=5)\n",
        "# Calculating accuracy, F1 score, precision, and recall\n",
        "accuracy5 = accuracy_score(y, predicted)\n",
        "print(\"Average Accuracy: \", accuracy5)\n",
        "f1 = f1_score(y, predicted, average='weighted')\n",
        "precision = precision_score(y, predicted, average='weighted')\n",
        "recall = recall_score(y, predicted, average='weighted')\n",
        "print(\"F1 Score:\", f1)\n",
        "print(\"Precision:\", precision)\n",
        "print(\"Recall:\", recall)"
      ],
      "metadata": {
        "colab": {
          "base_uri": "https://localhost:8080/"
        },
        "id": "dy8iNq6XntZz",
        "outputId": "a28f7e80-66d7-4372-8e4a-ecb0a3461f9d"
      },
      "execution_count": null,
      "outputs": [
        {
          "output_type": "stream",
          "name": "stdout",
          "text": [
            "Cross Validation Scores:  [0.91219512 0.87317073 0.84390244 0.93170732 0.84878049]\n",
            "Number of CV Scores used in Average:  5\n",
            "Average Accuracy:  0.8897560975609756\n",
            "F1 Score: 0.8897693194124391\n",
            "Precision: 0.8905296565303811\n",
            "Recall: 0.8897560975609756\n"
          ]
        }
      ]
    },
    {
      "cell_type": "code",
      "source": [
        "#Using cross fold where k=5 for gradient boosting\n",
        "k_folds = KFold(n_splits = 5)\n",
        "scores5= cross_val_score(gbc, X, y, cv = k_folds)\n",
        "print(\"Cross Validation Scores: \", scores5)\n",
        "print(\"Number of CV Scores used in Average: \", len(scores5))\n",
        "predicted = cross_val_predict(gbc, X, y, cv=5)\n",
        "# Calculating accuracy, F1 score, precision, and recall\n",
        "accuracy5 = accuracy_score(y, predicted)\n",
        "print(\"Average Accuracy: \", accuracy5)\n",
        "f1 = f1_score(y, predicted, average='weighted')\n",
        "precision = precision_score(y, predicted, average='weighted')\n",
        "recall = recall_score(y, predicted, average='weighted')\n",
        "print(\"F1 Score:\", f1)\n",
        "print(\"Precision:\", precision)\n",
        "print(\"Recall:\", recall)"
      ],
      "metadata": {
        "colab": {
          "base_uri": "https://localhost:8080/"
        },
        "id": "jiPqJwWn40Zb",
        "outputId": "e10851d2-78c3-4406-ffac-4a2ff852ae61"
      },
      "execution_count": null,
      "outputs": [
        {
          "output_type": "stream",
          "name": "stdout",
          "text": [
            "Cross Validation Scores:  [0.9902439  0.95609756 0.95609756 0.96585366 0.94634146]\n",
            "Number of CV Scores used in Average:  5\n",
            "Average Accuracy:  0.96\n",
            "F1 Score: 0.9599989331717852\n",
            "Precision: 0.9599996951753884\n",
            "Recall: 0.96\n"
          ]
        }
      ]
    },
    {
      "cell_type": "code",
      "source": [
        "#Using cross fold where k=5 for  adabost classifier\n",
        "k_folds = KFold(n_splits = 5)\n",
        "scores5= cross_val_score(abc, X, y, cv = k_folds)\n",
        "print(\"Cross Validation Scores: \", scores)\n",
        "print(\"Number of CV Scores used in Average: \", len(scores))\n",
        "predicted = cross_val_predict(abc, X, y, cv=5)\n",
        "# Calculating accuracy, F1 score, precision, and recall\n",
        "accuracy = accuracy_score(y, predicted)\n",
        "print(\"Average Accuracy: \", accuracy)\n",
        "f1 = f1_score(y, predicted, average='weighted')\n",
        "precision = precision_score(y, predicted, average='weighted')\n",
        "recall = recall_score(y, predicted, average='weighted')\n",
        "print(\"F1 Score:\", f1)\n",
        "print(\"Precision:\", precision)\n",
        "print(\"Recall:\", recall)"
      ],
      "metadata": {
        "colab": {
          "base_uri": "https://localhost:8080/"
        },
        "id": "rWkvoKxj9MNU",
        "outputId": "92855921-3e21-41bc-8014-2d7b89e59337"
      },
      "execution_count": null,
      "outputs": [
        {
          "output_type": "stream",
          "name": "stdout",
          "text": [
            "Cross Validation Scores:  [0.93859649 0.8625731  0.86217009]\n",
            "Number of CV Scores used in Average:  3\n",
            "Average Accuracy:  0.8907317073170732\n",
            "F1 Score: 0.8906931759498067\n",
            "Precision: 0.8908245023572844\n",
            "Recall: 0.8907317073170732\n"
          ]
        }
      ]
    },
    {
      "cell_type": "code",
      "source": [
        "import numpy as np\n",
        "import matplotlib.pyplot as plt\n",
        "classifiers=[\"Naives Bayes\",\"Support Vector Machine\",\"K Nearest Neighbor\",\"Gradient Boosting \",\"adaboost\"]\n",
        "pre=[81,60,89,95,89]\n",
        "recall=[81,60,88,96,89]\n",
        "f1=[81,60,88,95,89]\n",
        "ind=np.arange(len(classifiers))\n",
        "width=0.2\n",
        "plt.figure(figsize=(10,6))\n",
        "plt.bar(ind,pre,width,label=\"precision\")\n",
        "plt.bar(ind+width,recall,width,label=\"recall\")\n",
        "plt.bar(ind+width*2,f1,width,label=\"f1_score\")\n",
        "plt.xlabel(\"Classifiers\")\n",
        "plt.ylabel(\"parameters\")\n",
        "plt.title(\"precision,recall,f1_score of classifiers using k_fold,k=5\")\n",
        "plt.xticks(ind,classifiers)\n",
        "plt.legend( )\n",
        "plt.show()"
      ],
      "metadata": {
        "colab": {
          "base_uri": "https://localhost:8080/",
          "height": 564
        },
        "id": "rtueCs2jcPNn",
        "outputId": "f49884a8-7b3d-441e-a6f9-82269a48ea3f"
      },
      "execution_count": null,
      "outputs": [
        {
          "output_type": "display_data",
          "data": {
            "text/plain": [
              "<Figure size 1000x600 with 1 Axes>"
            ],
            "image/png": "[encoded data removed]"
          },
          "metadata": {}
        }
      ]
    },
    {
      "cell_type": "code",
      "source": [
        "import numpy as np\n",
        "import matplotlib.pyplot as plt\n",
        "classifiers=[\"Naives Bayes\",\"Support Vector Machine\",\"K Nearest Neighbor\",\"Gradient Boosting \",\"adaboost\"]\n",
        "accuracies=[0.81,0.60,0.88,0.96,0.89]\n",
        "plt.figure(figsize=(10,6))\n",
        "plt.bar(classifiers,accuracies,color=\"red\")\n",
        "plt.xlabel(\"Classifiers\")\n",
        "plt.ylabel(\"Accuracy\")\n",
        "plt.title(\"Accuracy of  classifiers using k fold,k=5\")\n",
        "plt.show()"
      ],
      "metadata": {
        "colab": {
          "base_uri": "https://localhost:8080/",
          "height": 564
        },
        "id": "PWyI_tteL3eu",
        "outputId": "b0951a29-c66a-4c8a-ad8e-8d041bdfbec7"
      },
      "execution_count": null,
      "outputs": [
        {
          "output_type": "display_data",
          "data": {
            "text/plain": [
              "<Figure size 1000x600 with 1 Axes>"
            ],
            "image/png": "[encoded data removed]"
          },
          "metadata": {}
        }
      ]
    },
    {
      "cell_type": "code",
      "source": [
        "#Using cross fold where k=7 for naives bayes\n",
        "k_folds = KFold(n_splits = 7)\n",
        "scores7= cross_val_score(classifier, X, y, cv = k_folds)\n",
        "print(\"Cross Validation Scores: \", scores7)\n",
        "print(\"Number of CV Scores used in Average: \", len(scores7))\n",
        "predicted = cross_val_predict(classifier, X, y, cv=7)\n",
        "# Calculating accuracy, F1 score, precision, and recall\n",
        "accuracy10 = accuracy_score(y, predicted)\n",
        "print(\"Average Accuracy: \", accuracy10)\n",
        "f1 = f1_score(y, predicted, average='weighted')\n",
        "precision = precision_score(y, predicted, average='weighted')\n",
        "recall = recall_score(y, predicted, average='weighted')\n",
        "print(\"F1 Score:\", f1)\n",
        "print(\"Precision:\", precision)\n",
        "print(\"Recall:\", recall)"
      ],
      "metadata": {
        "colab": {
          "base_uri": "https://localhost:8080/"
        },
        "id": "4gWvxBb4pF2s",
        "outputId": "15a584f0-4d1d-4eff-8461-532dd8efa406"
      },
      "execution_count": null,
      "outputs": [
        {
          "output_type": "stream",
          "name": "stdout",
          "text": [
            "Cross Validation Scores:  [0.87755102 0.82993197 0.79591837 0.80136986 0.81506849 0.80136986\n",
            " 0.76027397]\n",
            "Number of CV Scores used in Average:  7\n",
            "Average Accuracy:  0.8097560975609757\n",
            "F1 Score: 0.8094913526654406\n",
            "Precision: 0.8103555561868182\n",
            "Recall: 0.8097560975609757\n"
          ]
        }
      ]
    },
    {
      "cell_type": "code",
      "source": [
        "#Using cross fold where k=7 for svm\n",
        "k_folds = KFold(n_splits = 7)\n",
        "scores7= cross_val_score(svm, X, y, cv = k_folds)\n",
        "print(\"Cross Validation Scores: \", scores7)\n",
        "print(\"Number of CV Scores used in Average: \", len(scores7))\n",
        "predicted = cross_val_predict(svm, X, y, cv=7)\n",
        "# Calculating accuracy, F1 score, precision, and recall\n",
        "accuracy10 = accuracy_score(y, predicted)\n",
        "print(\"Average Accuracy: \", accuracy10)\n",
        "f1 = f1_score(y, predicted, average='weighted')\n",
        "precision = precision_score(y, predicted, average='weighted')\n",
        "recall = recall_score(y, predicted, average='weighted')\n",
        "print(\"F1 Score:\", f1)\n",
        "print(\"Precision:\", precision)\n",
        "print(\"Recall:\", recall)"
      ],
      "metadata": {
        "colab": {
          "base_uri": "https://localhost:8080/"
        },
        "id": "Qqdqd-nVnfQV",
        "outputId": "54a665cb-ff43-4a5f-9bbc-a5b531922ba4"
      },
      "execution_count": null,
      "outputs": [
        {
          "output_type": "stream",
          "name": "stdout",
          "text": [
            "Cross Validation Scores:  [0.58503401 0.62585034 0.65986395 0.60273973 0.61643836 0.60958904\n",
            " 0.60273973]\n",
            "Number of CV Scores used in Average:  7\n",
            "Average Accuracy:  0.6117073170731707\n",
            "F1 Score: 0.6100806043475889\n",
            "Precision: 0.6118726528760833\n",
            "Recall: 0.6117073170731707\n"
          ]
        }
      ]
    },
    {
      "cell_type": "code",
      "source": [
        "#Using cross fold where k=7 for KNN\n",
        "k_folds = KFold(n_splits = 7)\n",
        "scores7= cross_val_score(knn, X, y, cv = k_folds)\n",
        "print(\"Cross Validation Scores: \", scores7)\n",
        "print(\"Number of CV Scores used in Average: \", len(scores7))\n",
        "predicted = cross_val_predict(knn, X, y, cv=7)\n",
        "# Calculating accuracy, F1 score, precision, and recall\n",
        "accuracy10 = accuracy_score(y, predicted)\n",
        "print(\"Average Accuracy: \", accuracy10)\n",
        "f1 = f1_score(y, predicted, average='weighted')\n",
        "precision = precision_score(y, predicted, average='weighted')\n",
        "recall = recall_score(y, predicted, average='weighted')\n",
        "print(\"F1 Score:\", f1)\n",
        "print(\"Precision:\", precision)\n",
        "print(\"Recall:\", recall)"
      ],
      "metadata": {
        "colab": {
          "base_uri": "https://localhost:8080/"
        },
        "id": "4_K8_IaBnxEn",
        "outputId": "c2170746-427b-487c-ab6c-3d2b8a8a2918"
      },
      "execution_count": null,
      "outputs": [
        {
          "output_type": "stream",
          "name": "stdout",
          "text": [
            "Cross Validation Scores:  [0.97278912 0.86394558 0.89795918 0.89726027 0.93835616 0.9109589\n",
            " 0.82876712]\n",
            "Number of CV Scores used in Average:  7\n",
            "Average Accuracy:  0.9073170731707317\n",
            "F1 Score: 0.9073170731707317\n",
            "Precision: 0.9085770725351288\n",
            "Recall: 0.9073170731707317\n"
          ]
        }
      ]
    },
    {
      "cell_type": "code",
      "source": [
        "#Using cross fold where k=7 for gradient boosting\n",
        "k_folds = KFold(n_splits = 7)\n",
        "scores7= cross_val_score(gbc, X, y, cv = k_folds)\n",
        "print(\"Cross Validation Scores: \", scores7)\n",
        "print(\"Number of CV Scores used in Average: \", len(scores7))\n",
        "predicted = cross_val_predict(gbc, X, y, cv=7)\n",
        "# Calculating accuracy, F1 score, precision, and recall\n",
        "accuracy10 = accuracy_score(y, predicted)\n",
        "print(\"Average Accuracy: \", accuracy10)\n",
        "f1 = f1_score(y, predicted, average='weighted')\n",
        "precision = precision_score(y, predicted, average='weighted')\n",
        "recall = recall_score(y, predicted, average='weighted')\n",
        "print(\"F1 Score:\", f1)\n",
        "print(\"Precision:\", precision)\n",
        "print(\"Recall:\", recall)"
      ],
      "metadata": {
        "colab": {
          "base_uri": "https://localhost:8080/"
        },
        "id": "7L2o5z_l4-BB",
        "outputId": "c8cf418f-f2b1-4de4-b611-1bc0524d9b74"
      },
      "execution_count": null,
      "outputs": [
        {
          "output_type": "stream",
          "name": "stdout",
          "text": [
            "Cross Validation Scores:  [0.97278912 0.98639456 0.95238095 0.94520548 0.95890411 0.93835616\n",
            " 0.94520548]\n",
            "Number of CV Scores used in Average:  7\n",
            "Average Accuracy:  0.9580487804878048\n",
            "F1 Score: 0.9580451837269808\n",
            "Precision: 0.958058016625047\n",
            "Recall: 0.9580487804878048\n"
          ]
        }
      ]
    },
    {
      "cell_type": "code",
      "source": [
        "#Using cross fold where k=7 for adaboost\n",
        "k_folds = KFold(n_splits = 7)\n",
        "scores7= cross_val_score(abc, X, y, cv = k_folds)\n",
        "print(\"Cross Validation Scores: \", scores7)\n",
        "print(\"Number of CV Scores used in Average: \", len(scores7))\n",
        "predicted = cross_val_predict(abc, X, y, cv=7)\n",
        "# Calculating accuracy, F1 score, precision, and recall\n",
        "accuracy10 = accuracy_score(y, predicted)\n",
        "print(\"Average Accuracy: \", accuracy10)\n",
        "f1 = f1_score(y, predicted, average='weighted')\n",
        "precision = precision_score(y, predicted, average='weighted')\n",
        "recall = recall_score(y, predicted, average='weighted')\n",
        "print(\"F1 Score:\", f1)\n",
        "print(\"Precision:\", precision)\n",
        "print(\"Recall:\", recall)"
      ],
      "metadata": {
        "colab": {
          "base_uri": "https://localhost:8080/"
        },
        "id": "ZQJCoKcI9p5r",
        "outputId": "fda28c6c-88fe-4093-c4d1-240a46e198d9"
      },
      "execution_count": null,
      "outputs": [
        {
          "output_type": "stream",
          "name": "stdout",
          "text": [
            "Cross Validation Scores:  [0.94557823 0.91156463 0.8707483  0.89041096 0.89041096 0.89041096\n",
            " 0.84931507]\n",
            "Number of CV Scores used in Average:  7\n",
            "Average Accuracy:  0.8965853658536586\n",
            "F1 Score: 0.8965658561869476\n",
            "Precision: 0.8966078631000893\n",
            "Recall: 0.8965853658536586\n"
          ]
        }
      ]
    },
    {
      "cell_type": "code",
      "source": [
        "import numpy as np\n",
        "import matplotlib.pyplot as plt\n",
        "classifiers=[\"Naives Bayes\",\"Support Vector Machine\",\"K Nearest Neighbor\",\"Gradient Boosting \",\"adaboost\"]\n",
        "pre=[81,61,90,95,89]\n",
        "recall=[80,61,90,95,89]\n",
        "f1=[80,61,90,95,89]\n",
        "ind=np.arange(len(classifiers))\n",
        "width=0.2\n",
        "plt.figure(figsize=(10,6))\n",
        "plt.bar(ind,pre,width,label=\"precision\")\n",
        "plt.bar(ind+width,recall,width,label=\"recall\")\n",
        "plt.bar(ind+width*2,f1,width,label=\"f1_score\")\n",
        "plt.xlabel(\"Classifiers\")\n",
        "plt.ylabel(\"parameters\")\n",
        "plt.title(\"precision,recall,f1_score of classifiers using k_fold,k=7\")\n",
        "plt.xticks(ind,classifiers)\n",
        "plt.legend( )\n",
        "plt.show()"
      ],
      "metadata": {
        "colab": {
          "base_uri": "https://localhost:8080/",
          "height": 564
        },
        "id": "7YMjFKNMdYML",
        "outputId": "e30e6fdb-a3f9-4ba2-d9fa-dca5678eff89"
      },
      "execution_count": null,
      "outputs": [
        {
          "output_type": "display_data",
          "data": {
            "text/plain": [
              "<Figure size 1000x600 with 1 Axes>"
            ],
            "image/png": "[encoded data removed]"
          },
          "metadata": {}
        }
      ]
    },
    {
      "cell_type": "code",
      "source": [
        "import numpy as np\n",
        "import matplotlib.pyplot as plt\n",
        "classifiers=[\"Naives Bayes\",\"Support Vector Machine\",\"K Nearest Neighbor\",\"Gradient Boosting \",\"adaboost\"]\n",
        "accuracies=[0.80,0.61,0.90,0.95,0.89]\n",
        "plt.figure(figsize=(10,6))\n",
        "plt.bar(classifiers,accuracies,color=\"orange\")\n",
        "plt.xlabel(\"Classifiers\")\n",
        "plt.ylabel(\"Accuracy\")\n",
        "plt.title(\"Accuracy of  classifiers using k fold,k=7\")\n",
        "plt.show()"
      ],
      "metadata": {
        "colab": {
          "base_uri": "https://localhost:8080/",
          "height": 564
        },
        "id": "4s3K4rBvMN-x",
        "outputId": "cae24c72-6a12-4f72-f5a3-5b6bc8432ce8"
      },
      "execution_count": null,
      "outputs": [
        {
          "output_type": "display_data",
          "data": {
            "text/plain": [
              "<Figure size 1000x600 with 1 Axes>"
            ],
            "image/png": "[encoded data removed]"
          },
          "metadata": {}
        }
      ]
    },
    {
      "cell_type": "code",
      "source": [
        "#Using cross fold where k=10 for naives bayes\n",
        "k_folds = KFold(n_splits = 10)\n",
        "scores10= cross_val_score(classifier, X, y, cv = k_folds)\n",
        "print(\"Cross Validation Scores: \", scores10)\n",
        "print(\"Number of CV Scores used in Average: \", len(scores10))\n",
        "predicted = cross_val_predict(classifier, X, y, cv=10)\n",
        "# Calculating accuracy, F1 score, precision, and recall\n",
        "accuracy10 = accuracy_score(y, predicted)\n",
        "print(\"Average Accuracy: \", accuracy10)\n",
        "f1 = f1_score(y, predicted, average='weighted')\n",
        "precision = precision_score(y, predicted, average='weighted')\n",
        "recall = recall_score(y, predicted, average='weighted')\n",
        "print(\"F1 Score:\", f1)\n",
        "print(\"Precision:\", precision)\n",
        "print(\"Recall:\", recall)"
      ],
      "metadata": {
        "id": "k1L3b1jbsqq_",
        "colab": {
          "base_uri": "https://localhost:8080/"
        },
        "outputId": "f6c646be-ad10-4dba-d7dc-b3725e7f4a8a"
      },
      "execution_count": null,
      "outputs": [
        {
          "output_type": "stream",
          "name": "stdout",
          "text": [
            "Cross Validation Scores:  [0.87378641 0.88349515 0.81553398 0.78640777 0.77669903 0.8627451\n",
            " 0.80392157 0.78431373 0.73529412 0.78431373]\n",
            "Number of CV Scores used in Average:  10\n",
            "Average Accuracy:  0.8117073170731708\n",
            "F1 Score: 0.8114153929412007\n",
            "Precision: 0.8124296834457706\n",
            "Recall: 0.8117073170731708\n"
          ]
        }
      ]
    },
    {
      "cell_type": "code",
      "source": [
        "#Using cross fold where k=10 for svm\n",
        "k_folds = KFold(n_splits = 10)\n",
        "scores10= cross_val_score(svm, X, y, cv = k_folds)\n",
        "print(\"Cross Validation Scores: \", scores10)\n",
        "print(\"Number of CV Scores used in Average: \", len(scores10))\n",
        "predicted = cross_val_predict(svm, X, y, cv=10)\n",
        "# Calculating accuracy, F1 score, precision, and recall\n",
        "accuracy10 = accuracy_score(y, predicted)\n",
        "print(\"Average Accuracy: \", accuracy10)\n",
        "f1 = f1_score(y, predicted, average='weighted')\n",
        "precision = precision_score(y, predicted, average='weighted')\n",
        "recall = recall_score(y, predicted, average='weighted')\n",
        "print(\"F1 Score:\", f1)\n",
        "print(\"Precision:\", precision)\n",
        "print(\"Recall:\", recall)"
      ],
      "metadata": {
        "colab": {
          "base_uri": "https://localhost:8080/"
        },
        "id": "R943-fTnni4A",
        "outputId": "71251887-0b93-4f23-8dec-c0589cfff0af"
      },
      "execution_count": null,
      "outputs": [
        {
          "output_type": "stream",
          "name": "stdout",
          "text": [
            "Cross Validation Scores:  [0.60194175 0.60194175 0.6407767  0.6407767  0.66990291 0.56862745\n",
            " 0.56862745 0.68627451 0.54901961 0.59803922]\n",
            "Number of CV Scores used in Average:  10\n",
            "Average Accuracy:  0.6097560975609756\n",
            "F1 Score: 0.6079122194327177\n",
            "Precision: 0.6100032729429894\n",
            "Recall: 0.6097560975609756\n"
          ]
        }
      ]
    },
    {
      "cell_type": "code",
      "source": [
        "#Using cross fold where k=10 for KNN\n",
        "k_folds = KFold(n_splits = 10)\n",
        "scores10= cross_val_score(knn, X, y, cv = k_folds)\n",
        "print(\"Cross Validation Scores: \", scores10)\n",
        "print(\"Number of CV Scores used in Average: \", len(scores10))\n",
        "predicted = cross_val_predict(knn, X, y, cv=10)\n",
        "# Calculating accuracy, F1 score, precision, and recall\n",
        "accuracy10 = accuracy_score(y, predicted)\n",
        "print(\"Average Accuracy: \", accuracy10)\n",
        "f1 = f1_score(y, predicted, average='weighted')\n",
        "precision = precision_score(y, predicted, average='weighted')\n",
        "recall = recall_score(y, predicted, average='weighted')\n",
        "print(\"F1 Score:\", f1)\n",
        "print(\"Precision:\", precision)\n",
        "print(\"Recall:\", recall)"
      ],
      "metadata": {
        "colab": {
          "base_uri": "https://localhost:8080/"
        },
        "id": "gmB_ZubKn3fF",
        "outputId": "d43aa972-7571-4ba1-904a-c18fa28288ca"
      },
      "execution_count": null,
      "outputs": [
        {
          "output_type": "stream",
          "name": "stdout",
          "text": [
            "Cross Validation Scores:  [0.96116505 0.94174757 0.94174757 0.91262136 0.87378641 0.90196078\n",
            " 0.95098039 0.98039216 0.93137255 0.88235294]\n",
            "Number of CV Scores used in Average:  10\n",
            "Average Accuracy:  0.9258536585365854\n",
            "F1 Score: 0.9258635392951454\n",
            "Precision: 0.9265785284049463\n",
            "Recall: 0.9258536585365854\n"
          ]
        }
      ]
    },
    {
      "cell_type": "code",
      "source": [
        "#Using cross fold where k=10 for gradient boosting\n",
        "k_folds = KFold(n_splits = 10)\n",
        "scores10= cross_val_score(gbc, X, y, cv = k_folds)\n",
        "print(\"Cross Validation Scores: \", scores7)\n",
        "print(\"Number of CV Scores used in Average: \", len(scores10))\n",
        "predicted = cross_val_predict(gbc, X, y, cv=10)\n",
        "# Calculating accuracy, F1 score, precision, and recall\n",
        "accuracy10 = accuracy_score(y, predicted)\n",
        "print(\"Average Accuracy: \", accuracy10)\n",
        "f1 = f1_score(y, predicted, average='weighted')\n",
        "precision = precision_score(y, predicted, average='weighted')\n",
        "recall = recall_score(y, predicted, average='weighted')\n",
        "print(\"F1 Score:\", f1)\n",
        "print(\"Precision:\", precision)\n",
        "print(\"Recall:\", recall)"
      ],
      "metadata": {
        "colab": {
          "base_uri": "https://localhost:8080/"
        },
        "id": "EZaMlLnC5IJy",
        "outputId": "15193461-1a2d-4ffc-91bc-c2c406a7e25b"
      },
      "execution_count": null,
      "outputs": [
        {
          "output_type": "stream",
          "name": "stdout",
          "text": [
            "Cross Validation Scores:  [0.97087379 1.         0.98058252 0.96116505 0.9223301  1.\n",
            " 0.94117647 0.98039216 0.95098039 0.93137255]\n",
            "Number of CV Scores used in Average:  10\n",
            "Average Accuracy:  0.9619512195121951\n",
            "F1 Score: 0.9619454193987443\n",
            "Precision: 0.9619854551527056\n",
            "Recall: 0.9619512195121951\n"
          ]
        }
      ]
    },
    {
      "cell_type": "code",
      "source": [
        "#Using cross fold where k=10 for adaboost\n",
        "k_folds = KFold(n_splits = 10)\n",
        "scores10= cross_val_score(abc, X, y, cv = k_folds)\n",
        "print(\"Cross Validation Scores: \", scores7)\n",
        "print(\"Number of CV Scores used in Average: \", len(scores10))\n",
        "predicted = cross_val_predict(abc, X, y, cv=10)\n",
        "# Calculating accuracy, F1 score, precision, and recall\n",
        "accuracy10 = accuracy_score(y, predicted)\n",
        "print(\"Average Accuracy: \", accuracy10)\n",
        "f1 = f1_score(y, predicted, average='weighted')\n",
        "precision = precision_score(y, predicted, average='weighted')\n",
        "recall = recall_score(y, predicted, average='weighted')\n",
        "print(\"F1 Score:\", f1)\n",
        "print(\"Precision:\", precision)\n",
        "print(\"Recall:\", recall)"
      ],
      "metadata": {
        "colab": {
          "base_uri": "https://localhost:8080/"
        },
        "id": "e2oVswj996RW",
        "outputId": "3efa59ce-76f9-4d62-d240-3f68a7a2ba17"
      },
      "execution_count": null,
      "outputs": [
        {
          "output_type": "stream",
          "name": "stdout",
          "text": [
            "Cross Validation Scores:  [0.94557823 0.91156463 0.8707483  0.89041096 0.89041096 0.89041096\n",
            " 0.84931507]\n",
            "Number of CV Scores used in Average:  10\n",
            "Average Accuracy:  0.8975609756097561\n",
            "F1 Score: 0.8975453599196963\n",
            "Precision: 0.8975725052659845\n",
            "Recall: 0.8975609756097561\n"
          ]
        }
      ]
    },
    {
      "cell_type": "code",
      "source": [
        "import numpy as np\n",
        "import matplotlib.pyplot as plt\n",
        "classifiers=[\"Naives Bayes\",\"Support Vector Machine\",\"K Nearest Neighbor\",\"Gradient Boosting \",\"adaboost\"]\n",
        "pre=[81,61,92,96,89]\n",
        "recall=[81,60,92,96,89]\n",
        "f1=[81,60,92,96,89]\n",
        "ind=np.arange(len(classifiers))\n",
        "width=0.2\n",
        "plt.figure(figsize=(10,6))\n",
        "plt.bar(ind,pre,width,label=\"precision\")\n",
        "plt.bar(ind+width,recall,width,label=\"recall\")\n",
        "plt.bar(ind+width*2,f1,width,label=\"f1_score\")\n",
        "plt.xlabel(\"Classifiers\")\n",
        "plt.ylabel(\"parameters\")\n",
        "plt.title(\"precision,recall,f1_score of classifiers using k_fold,k=10\")\n",
        "plt.xticks(ind,classifiers)\n",
        "plt.legend( )\n",
        "plt.show()"
      ],
      "metadata": {
        "colab": {
          "base_uri": "https://localhost:8080/",
          "height": 564
        },
        "id": "4O13S9NOeMb2",
        "outputId": "d2c6014e-7146-4275-f69c-943555320f0a"
      },
      "execution_count": null,
      "outputs": [
        {
          "output_type": "display_data",
          "data": {
            "text/plain": [
              "<Figure size 1000x600 with 1 Axes>"
            ],
            "image/png": "[encoded data removed]"
          },
          "metadata": {}
        }
      ]
    },
    {
      "cell_type": "code",
      "source": [
        "import numpy as np\n",
        "import matplotlib.pyplot as plt\n",
        "classifiers=[\"Naives Bayes\",\"Support Vector Machine\",\"K Nearest Neighbor\",\"Gradient Boosting \",\"adaboost\"]\n",
        "accuracies=[0.81,0.60,0.92,0.96,0.89]\n",
        "plt.figure(figsize=(10,6))\n",
        "plt.bar(classifiers,accuracies,color=\"blue\")\n",
        "plt.xlabel(\"Classifiers\")\n",
        "plt.ylabel(\"Accuracy\")\n",
        "plt.title(\"Accuracy of  classifiers using k fold,k=10\")\n",
        "plt.show()"
      ],
      "metadata": {
        "colab": {
          "base_uri": "https://localhost:8080/",
          "height": 564
        },
        "id": "hmdQK5n5MjeI",
        "outputId": "d97bb02f-44c9-416f-a11f-2167044ac0af"
      },
      "execution_count": null,
      "outputs": [
        {
          "output_type": "display_data",
          "data": {
            "text/plain": [
              "<Figure size 1000x600 with 1 Axes>"
            ],
            "image/png": "[encoded data removed]"
          },
          "metadata": {}
        }
      ]
    }
  ]
}